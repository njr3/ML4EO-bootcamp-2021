{
 "cells": [
  {
   "cell_type": "markdown",
   "metadata": {},
   "source": [
    "Exercise 4 - Rasterizing Input Data and Packaging Imagery\n",
    "---\n",
    "\n",
    "<a style=\"display: inline-block;\" href=\"https://mybinder.org/v2/gh/RadiantMLHub/ml4eo-bootcamp-2021/main?filepath=Lecture%202%2Fexercises%2F4_rasterizing_input_data_packaging_imagery.ipynb\"><img src=\"https://mybinder.org/badge_logo.svg\" alt=\"Launch in Binder\"/></a>\n",
    "\n",
    "In this last exercise we will rasterize the input data, create a JSON file which defines the mapping of raster values to class, and crop our imagery to the extent of the final label raster. This first cell is responsible for rasterizing the input data and creating the raster value mapping file."
   ]
  },
  {
   "cell_type": "code",
   "execution_count": 1,
   "metadata": {},
   "outputs": [],
   "source": [
    "import rasterio\n",
    "from rasterio.profiles import DefaultGTiffProfile\n",
    "from rasterio.crs import CRS as rasterioCRS\n",
    "from rasterio import features\n",
    "import rasterio.mask\n",
    "import fiona\n",
    "import glob\n",
    "import geopandas as gpd\n",
    "from shapely.geometry import GeometryCollection, box\n",
    "import math\n",
    "import os\n",
    "import json\n",
    "\n",
    "RESOLUTION = 10 # Spatial Resolution in Meters of the Imagery\n",
    "LABEL_COLUMN = 'CROPS' # Column for which to Rasterize\n",
    "\n",
    "DATASET_DIRECTORY = '../data/dataset'\n",
    "\n",
    "if not os.path.exists(DATASET_DIRECTORY):\n",
    "    os.makedirs(DATASET_DIRECTORY)\n",
    "\n",
    "labels = gpd.read_file('../data/labels.geojson')\n",
    "\n",
    "bbox = GeometryCollection([ geom for geom in labels.geometry ]).bounds\n",
    "bounds = box(bbox[0], bbox[1], bbox[2], bbox[3])\n",
    "\n",
    "width = math.ceil(abs(bbox[0] - bbox[2]) / RESOLUTION)\n",
    "height = math.ceil(abs(bbox[1] - bbox[3]) / RESOLUTION)\n",
    "\n",
    "all_labels = list(labels[LABEL_COLUMN].unique())\n",
    "\n",
    "def raster_label(row):\n",
    "    return all_labels.index(row[LABEL_COLUMN]) + 1\n",
    "\n",
    "labels['RASTER_LABEL'] = labels.apply(lambda row: raster_label(row), axis=1)\n",
    "\n",
    "label_shapes = [ (geom, v) for geom, v in zip(labels.geometry, labels.RASTER_LABEL) ]\n",
    "\n",
    "label_key = {\n",
    "    '0': 'No Data'\n",
    "}\n",
    "\n",
    "for i, l in enumerate(all_labels):\n",
    "    label_key[str(i+1)] = l\n",
    "\n",
    "with open(f'{DATASET_DIRECTORY}/labels.json', 'w') as f:\n",
    "    f.write(json.dumps(label_key))\n",
    "\n",
    "profile = DefaultGTiffProfile(\n",
    "    count=1,\n",
    "    width=width,\n",
    "    height=height\n",
    ")\n",
    "profile['crs'] = rasterioCRS.from_epsg(str(labels.crs).replace('epsg:', ''))\n",
    "profile['transform'] = rasterio.transform.from_origin(\n",
    "    bbox[0],\n",
    "    bbox[3],\n",
    "    RESOLUTION,\n",
    "    RESOLUTION\n",
    ")\n",
    "\n",
    "profile['nodata'] = 0\n",
    "\n",
    "with rasterio.open(f'{DATASET_DIRECTORY}/labels.tif', 'w', **profile) as dst_dataset:\n",
    "    image = features.rasterize(\n",
    "        label_shapes,\n",
    "        all_touched=True,\n",
    "        fill=0,\n",
    "        out_shape=dst_dataset.shape,\n",
    "        transform=dst_dataset.transform\n",
    "    )\n",
    "    dst_dataset.write(image, indexes=1)"
   ]
  },
  {
   "cell_type": "markdown",
   "metadata": {},
   "source": [
    "Crop Imagery to Input Data\n",
    "---\n",
    "Next, we will need to iterate through all of our imagery files, crop them to the extent of the label raster, and save them in a directory with the label raster."
   ]
  },
  {
   "cell_type": "code",
   "execution_count": 2,
   "metadata": {},
   "outputs": [],
   "source": [
    "files = glob.glob('../data/imagery/**/*.tif')\n",
    "for fname in files:\n",
    "    scene_id = fname.split('/')[-2]\n",
    "    output_fname = fname.split('/')[-1]\n",
    "    \n",
    "    output_path = f'{DATASET_DIRECTORY}/imagery'\n",
    "    if not os.path.exists(output_path):\n",
    "        os.makedirs(output_path)\n",
    "        \n",
    "    output_fname = f'{output_path}/{scene_id}_{output_fname}'\n",
    "    \n",
    "    with rasterio.open(fname) as src:\n",
    "        out_image, out_transform = rasterio.mask.mask(src, [bounds], crop=True)\n",
    "        out_meta = src.meta\n",
    "        \n",
    "    out_meta.update({\"driver\": \"GTiff\",\n",
    "                 \"height\": height,\n",
    "                 \"width\": width,\n",
    "                 \"transform\": out_transform})\n",
    "\n",
    "    with rasterio.open(output_fname, \"w\", **out_meta) as dest:\n",
    "        dest.write(out_image)"
   ]
  },
  {
   "cell_type": "markdown",
   "metadata": {},
   "source": [
    "Done!\n",
    "---\n",
    "\n",
    "You now have a complete training dataset from just a simple shapefile of data collected in the field. The label raster, label raster value mapping, and cropped imagery are all located within the `data/dataset/` directory. In a follow up lecture you will learn how to create a [STAC](http://stacspec.org/) catalog of this dataset which enables your datasets to be more discoverable and allows for easy importing into [Radiant MLHub](https://mlhub.earth/)."
   ]
  },
  {
   "cell_type": "markdown",
   "metadata": {},
   "source": [
    "Homework\n",
    "---\n",
    "\n",
    "Try to create a complete training dataset using these methods with another input dataset. The label file from the [Smallholder Cashew Plantations in Benin](https://registry.mlhub.earth/10.34911/rdnt.hfv20i/) is a good input dataset to try this with."
   ]
  }
 ],
 "metadata": {
  "kernelspec": {
   "display_name": "Python 3",
   "language": "python",
   "name": "python3"
  },
  "language_info": {
   "codemirror_mode": {
    "name": "ipython",
    "version": 3
   },
   "file_extension": ".py",
   "mimetype": "text/x-python",
   "name": "python",
   "nbconvert_exporter": "python",
   "pygments_lexer": "ipython3",
   "version": "3.8.6"
  }
 },
 "nbformat": 4,
 "nbformat_minor": 4
}
