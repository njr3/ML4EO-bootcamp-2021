{
 "cells": [
  {
   "cell_type": "markdown",
   "metadata": {},
   "source": [
    "Exercise 2 - Cleaning Input Data\n",
    "---\n",
    "\n",
    "<a style=\"display: inline-block;\" href=\"https://mybinder.org/v2/gh/RadiantMLHub/ml4eo-bootcamp-2021/main?filepath=Lecture%202%2Fexercises%2F2_cleaning_input_data.ipynb\"><img src=\"https://mybinder.org/badge_logo.svg\" alt=\"Launch in Binder\"/></a>\n",
    "\n",
    "In this exercise we will work with the same input data as the first exercise. We will convert the input data from the shapefile format to a more user-friendly GeoJSON format, reproject to the same projection as the Sentinel-2 Imagery will be in, fix invalid geometries, and rename similar field values so that they are the same."
   ]
  },
  {
   "cell_type": "code",
   "execution_count": 1,
   "metadata": {},
   "outputs": [],
   "source": [
    "import fiona\n",
    "from shapely.geometry import shape, mapping\n",
    "from shapely.ops import transform\n",
    "import json\n",
    "import pyproj\n",
    "import geopandas as gpd\n",
    "\n",
    "input_data = fiona.open(\"../data/south_africa_crops/south_africa_crops.shp\")"
   ]
  },
  {
   "cell_type": "markdown",
   "metadata": {},
   "source": [
    "Configuration\n",
    "---\n",
    "\n",
    "This cell defines the coordinate reference system we will reproject the geometries to (UTM Zone 34S), the name of the field which contains the label (CROPS), the names of the fields which will be kept and not dropped (CROPS, CAPDATE), and the mapping of similar values to the same value."
   ]
  },
  {
   "cell_type": "code",
   "execution_count": 2,
   "metadata": {},
   "outputs": [],
   "source": [
    "DESTINATION_CRS = 'EPSG:32734'\n",
    "\n",
    "CLASS_PROPERTY = 'CROPS'\n",
    "FEATURE_PROPERTIES = [ CLASS_PROPERTY, 'CAPDATE' ]\n",
    "\n",
    "CLASS_MAPPING = {\n",
    "    'Barley': [ 'Barley' ],\n",
    "    'Leeks': [ 'Leeks' ],\n",
    "    'Peppers': [ 'Peppers' ],\n",
    "    'Oranges': [ 'Oranges', 'Orange', 'orange' ],\n",
    "    'Tomatoes': [ 'Tomatoes' ],\n",
    "    'Wheat': [ 'Wheat' ]\n",
    "}"
   ]
  },
  {
   "cell_type": "markdown",
   "metadata": {},
   "source": [
    "Copying Features, Dropping Properties, and Mapping Properties\n",
    "---\n",
    "\n",
    "In this cell we iterate through every record in the input data, map similar `CROPS` field values to the same value, drop properties which we are not interested in, and add each record to the `features` array which we will use when exporting our dataset to a GeoJSON file."
   ]
  },
  {
   "cell_type": "code",
   "execution_count": 3,
   "metadata": {},
   "outputs": [],
   "source": [
    "features = [ ]\n",
    "\n",
    "for row in input_data:\n",
    "    feature_properties = {}\n",
    "    \n",
    "    raw_class = row['properties'].get(CLASS_PROPERTY)\n",
    "    cleaned_class = 'N/A'\n",
    "    \n",
    "    for new_class, raw_classes in CLASS_MAPPING.items():\n",
    "        if raw_class in raw_classes:\n",
    "            cleaned_class = new_class\n",
    "            break\n",
    "    \n",
    "    row['properties'][CLASS_PROPERTY] = cleaned_class\n",
    "    \n",
    "    for key, value in row['properties'].items():\n",
    "        if key in FEATURE_PROPERTIES:\n",
    "            feature_properties[key] = value\n",
    "        \n",
    "    row['properties'] = feature_properties\n",
    "    row['geometry'] = shape(row['geometry'])\n",
    "    \n",
    "    features.append(row)"
   ]
  },
  {
   "cell_type": "markdown",
   "metadata": {},
   "source": [
    "Visualizing Automatic Geometry Fixing\n",
    "---\n",
    "\n",
    "This cell shows how the automatic fixing of invalid geometries does not always produce the result you would expect. In this case we would expect the fixed geometry to look more like a single rectangle rather than a rectangle and a triangle. Usually it is best to manually edit the geometries in software like [QGIS](https://www.qgis.org/en/site/) and match it with imagery so the edited geometries match the actual field geometry exactly. However, this process is very time intensive and is not feasible for very large datasets. In this exercise we will use the automatic method as it is \"good enough\"."
   ]
  },
  {
   "cell_type": "code",
   "execution_count": 4,
   "metadata": {},
   "outputs": [
    {
     "data": {
      "image/png": "[encoded data removed]",
      "text/plain": [
       "<Figure size 432x288 with 1 Axes>"
      ]
     },
     "metadata": {
      "needs_background": "light"
     },
     "output_type": "display_data"
    },
    {
     "data": {
      "image/png": "[encoded data removed]",
      "text/plain": [
       "<Figure size 432x288 with 1 Axes>"
      ]
     },
     "metadata": {
      "needs_background": "light"
     },
     "output_type": "display_data"
    }
   ],
   "source": [
    "for feature in features:\n",
    "    if not feature['geometry'].is_valid:\n",
    "        gpd.GeoSeries(feature['geometry']).plot()\n",
    "        feature['geometry'] = feature['geometry'].buffer(0)\n",
    "        gpd.GeoSeries(feature['geometry']).plot()\n",
    "        break"
   ]
  },
  {
   "cell_type": "code",
   "execution_count": 5,
   "metadata": {},
   "outputs": [],
   "source": [
    "for feature in features:\n",
    "    if not feature['geometry'].is_valid:\n",
    "        feature['geometry'] = feature['geometry'].buffer(0)"
   ]
  },
  {
   "cell_type": "markdown",
   "metadata": {},
   "source": [
    "Transforming CRS\n",
    "---\n",
    "\n",
    "This cell will iterate through every field and reproject its geometry to the final UTM Zone 34S coordinate reference system."
   ]
  },
  {
   "cell_type": "code",
   "execution_count": 6,
   "metadata": {},
   "outputs": [
    {
     "name": "stderr",
     "output_type": "stream",
     "text": [
      "/usr/local/lib/python3.8/site-packages/pyproj/crs/crs.py:53: FutureWarning: '+init=<authority>:<code>' syntax is deprecated. '<authority>:<code>' is the preferred initialization method. When making the change, be mindful of axis order changes: https://pyproj4.github.io/pyproj/stable/gotchas.html#axis-order-changes-in-proj-6\n",
      "  return _prepare_from_string(\" \".join(pjargs))\n"
     ]
    }
   ],
   "source": [
    "src_crs = pyproj.CRS(input_data.crs)\n",
    "dst_crs = pyproj.CRS(DESTINATION_CRS)\n",
    "\n",
    "project = pyproj.Transformer.from_crs(src_crs, dst_crs, always_xy=True).transform\n",
    "\n",
    "for feature in features:\n",
    "    feature['geometry'] = mapping(transform(project, feature['geometry']))"
   ]
  },
  {
   "cell_type": "markdown",
   "metadata": {},
   "source": [
    "Saving GeoJSON\n",
    "---\n",
    "\n",
    "Finally, we save the dataset as a GeoJSON file."
   ]
  },
  {
   "cell_type": "code",
   "execution_count": 7,
   "metadata": {},
   "outputs": [],
   "source": [
    "with open('../data/labels.geojson', 'w') as f:\n",
    "    f.write(json.dumps({\n",
    "        'type': 'FeatureCollection',\n",
    "        'features': features,\n",
    "        'crs': {\n",
    "            'type': 'name',\n",
    "            'properties': {\n",
    "                'name': DESTINATION_CRS\n",
    "            }\n",
    "        }\n",
    "    }, indent=4))"
   ]
  }
 ],
 "metadata": {
  "kernelspec": {
   "display_name": "Python 3",
   "language": "python",
   "name": "python3"
  },
  "language_info": {
   "codemirror_mode": {
    "name": "ipython",
    "version": 3
   },
   "file_extension": ".py",
   "mimetype": "text/x-python",
   "name": "python",
   "nbconvert_exporter": "python",
   "pygments_lexer": "ipython3",
   "version": "3.8.6"
  }
 },
 "nbformat": 4,
 "nbformat_minor": 4
}
