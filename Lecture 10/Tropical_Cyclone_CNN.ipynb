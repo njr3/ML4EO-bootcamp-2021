{
 "cells": [
  {
   "cell_type": "markdown",
   "metadata": {
    "id": "aDHi1blAiAh-"
   },
   "source": [
    "# Tropical Cyclone Wind Estimation from Satellite Imagery"
   ]
  },
  {
   "cell_type": "markdown",
   "metadata": {
    "id": "jclFfXEq3Doh"
   },
   "source": [
    "By: Ali Ahmadalipour, Principal Data Scientist at KatRisk\n",
    "\n",
    "To check out a summary of the methodology and results, please visit https://www.linkedin.com/pulse/deep-learning-computer-vision-satellite-imagery-ali-ahmadalipour/"
   ]
  },
  {
   "cell_type": "markdown",
   "metadata": {
    "id": "efPlyRRWQ0m-"
   },
   "source": [
    "# 1. Import data and unzip"
   ]
  },
  {
   "cell_type": "markdown",
   "metadata": {
    "id": "_FxemlEc4mDX"
   },
   "source": [
    "This section will download the data from Radiant MLHub. \n",
    "\n",
    "But for this presentation, we will skip running it, since I have alreay downloaded and preprocessed the data to save time during the lecture."
   ]
  },
  {
   "cell_type": "code",
   "execution_count": 1,
   "metadata": {
    "id": "PeSR9ITuR_bl"
   },
   "outputs": [],
   "source": [
    "import os\n",
    "import requests\n",
    "import tarfile\n",
    "import urllib.request"
   ]
  },
  {
   "cell_type": "markdown",
   "metadata": {
    "id": "YhEYctoi1rko"
   },
   "source": [
    "### Download data using Radiant MLHub:"
   ]
  },
  {
   "cell_type": "code",
   "execution_count": null,
   "metadata": {
    "id": "sOfRJ9Qr1_Ij"
   },
   "outputs": [],
   "source": [
    "#pip install radiant_mlhub"
   ]
  },
  {
   "cell_type": "code",
   "execution_count": 5,
   "metadata": {
    "id": "-RgH61oWaF-o"
   },
   "outputs": [],
   "source": [
    "from radiant_mlhub import Dataset, Collection, client\n",
    "#os.environ['MLHUB_API_KEY'] = 'YOUR_MLHub_API_KEY'"
   ]
  },
  {
   "cell_type": "code",
   "execution_count": null,
   "metadata": {
    "id": "GEuVk8r74H_j"
   },
   "outputs": [],
   "source": [
    "dataset = Dataset.fetch('nasa_tropical_storm_competition')\n",
    "download_dir = Path('./').resolve()\n",
    "# archive_paths = dataset.download(output_dir=download_dir)\n",
    "#print('Download completed')"
   ]
  },
  {
   "cell_type": "markdown",
   "metadata": {
    "id": "S2yYKmo_44Vv"
   },
   "source": [
    "### Check the number of files to ensure correct extraction"
   ]
  },
  {
   "cell_type": "code",
   "execution_count": null,
   "metadata": {
    "id": "D_-pSQAfSCxe"
   },
   "outputs": [],
   "source": [
    "## Count the number of files to make sure that all files are correctly loaded and extracted:\n",
    "#directory ='.'\n",
    "#path, dirs, files = next(os.walk(directory+'/train'))\n",
    "#file_count = len(files)\n",
    "#file_count #70257"
   ]
  },
  {
   "cell_type": "markdown",
   "metadata": {
    "id": "s7CnSjksSDGF"
   },
   "source": [
    "# 2. Preprocessing data:"
   ]
  },
  {
   "cell_type": "code",
   "execution_count": 7,
   "metadata": {
    "id": "0xsGPyUdSSKQ"
   },
   "outputs": [],
   "source": [
    "import matplotlib.pyplot as plt\n",
    "import matplotlib.image as mpimg\n",
    "import numpy as np\n",
    "import pandas as pd\n",
    "import seaborn as sns\n",
    "import time\n",
    "%matplotlib inline"
   ]
  },
  {
   "cell_type": "markdown",
   "metadata": {
    "id": "e_egpQX7iAiJ"
   },
   "source": [
    "You can access the pre-processed data from this shared Google Drive folder:\n",
    "\n",
    "https://drive.google.com/drive/folders/1jTw5UoLewMsD0SckoyTcfbN7UNWXl9EN?usp=sharing\n",
    "\n",
    "To load the data from the shared Google drive, open the shared drive in your browser,\n",
    "right click on the folder, and select \"Add shortcut to Drive\". Now you should see it on your Google Drive."
   ]
  },
  {
   "cell_type": "code",
   "execution_count": 8,
   "metadata": {
    "colab": {
     "base_uri": "https://localhost:8080/"
    },
    "id": "lx-UChVCiAiJ",
    "outputId": "0189dd27-246e-48c8-8bd8-07c7bc05ab35"
   },
   "outputs": [
    {
     "name": "stdout",
     "output_type": "stream",
     "text": [
      "Drive already mounted at /content/drive; to attempt to forcibly remount, call drive.mount(\"/content/drive\", force_remount=True).\n"
     ]
    }
   ],
   "source": [
    "# mount your Google drive to this notebook\n",
    "from google.colab import drive\n",
    "drive.mount('/content/drive')"
   ]
  },
  {
   "cell_type": "code",
   "execution_count": 9,
   "metadata": {
    "id": "ZRg6PFZNSSY-"
   },
   "outputs": [],
   "source": [
    "directory ='/content/drive/MyDrive/Lecture_10/' \n",
    "train_metadata  = pd.read_csv(f'{directory}/training_set_features.csv')\n",
    "train_labels = pd.read_csv(f'{directory}/training_set_labels.csv')\n",
    "#directory = '.'"
   ]
  },
  {
   "cell_type": "code",
   "execution_count": 10,
   "metadata": {
    "colab": {
     "base_uri": "https://localhost:8080/",
     "height": 204
    },
    "id": "NI09U4ZfU1xV",
    "outputId": "1fd19e80-34e2-4c2a-febc-30d701bc8361"
   },
   "outputs": [
    {
     "data": {
      "text/html": [
       "<div>\n",
       "<style scoped>\n",
       "    .dataframe tbody tr th:only-of-type {\n",
       "        vertical-align: middle;\n",
       "    }\n",
       "\n",
       "    .dataframe tbody tr th {\n",
       "        vertical-align: top;\n",
       "    }\n",
       "\n",
       "    .dataframe thead th {\n",
       "        text-align: right;\n",
       "    }\n",
       "</style>\n",
       "<table border=\"1\" class=\"dataframe\">\n",
       "  <thead>\n",
       "    <tr style=\"text-align: right;\">\n",
       "      <th></th>\n",
       "      <th>image_id</th>\n",
       "      <th>storm_id</th>\n",
       "      <th>relative_time</th>\n",
       "      <th>ocean</th>\n",
       "    </tr>\n",
       "  </thead>\n",
       "  <tbody>\n",
       "    <tr>\n",
       "      <th>0</th>\n",
       "      <td>abs_000</td>\n",
       "      <td>abs</td>\n",
       "      <td>0</td>\n",
       "      <td>2</td>\n",
       "    </tr>\n",
       "    <tr>\n",
       "      <th>1</th>\n",
       "      <td>abs_001</td>\n",
       "      <td>abs</td>\n",
       "      <td>1800</td>\n",
       "      <td>2</td>\n",
       "    </tr>\n",
       "    <tr>\n",
       "      <th>2</th>\n",
       "      <td>abs_002</td>\n",
       "      <td>abs</td>\n",
       "      <td>5400</td>\n",
       "      <td>2</td>\n",
       "    </tr>\n",
       "    <tr>\n",
       "      <th>3</th>\n",
       "      <td>abs_003</td>\n",
       "      <td>abs</td>\n",
       "      <td>17999</td>\n",
       "      <td>2</td>\n",
       "    </tr>\n",
       "    <tr>\n",
       "      <th>4</th>\n",
       "      <td>abs_004</td>\n",
       "      <td>abs</td>\n",
       "      <td>19799</td>\n",
       "      <td>2</td>\n",
       "    </tr>\n",
       "  </tbody>\n",
       "</table>\n",
       "</div>"
      ],
      "text/plain": [
       "  image_id storm_id  relative_time  ocean\n",
       "0  abs_000      abs              0      2\n",
       "1  abs_001      abs           1800      2\n",
       "2  abs_002      abs           5400      2\n",
       "3  abs_003      abs          17999      2\n",
       "4  abs_004      abs          19799      2"
      ]
     },
     "execution_count": 10,
     "metadata": {
      "tags": []
     },
     "output_type": "execute_result"
    }
   ],
   "source": [
    "train_metadata.head()"
   ]
  },
  {
   "cell_type": "code",
   "execution_count": 11,
   "metadata": {
    "colab": {
     "base_uri": "https://localhost:8080/",
     "height": 204
    },
    "id": "O1FDRGHtU4I0",
    "outputId": "197c6550-58b7-47a8-9910-9791bccfabbe"
   },
   "outputs": [
    {
     "data": {
      "text/html": [
       "<div>\n",
       "<style scoped>\n",
       "    .dataframe tbody tr th:only-of-type {\n",
       "        vertical-align: middle;\n",
       "    }\n",
       "\n",
       "    .dataframe tbody tr th {\n",
       "        vertical-align: top;\n",
       "    }\n",
       "\n",
       "    .dataframe thead th {\n",
       "        text-align: right;\n",
       "    }\n",
       "</style>\n",
       "<table border=\"1\" class=\"dataframe\">\n",
       "  <thead>\n",
       "    <tr style=\"text-align: right;\">\n",
       "      <th></th>\n",
       "      <th>image_id</th>\n",
       "      <th>wind_speed</th>\n",
       "    </tr>\n",
       "  </thead>\n",
       "  <tbody>\n",
       "    <tr>\n",
       "      <th>0</th>\n",
       "      <td>abs_000</td>\n",
       "      <td>43</td>\n",
       "    </tr>\n",
       "    <tr>\n",
       "      <th>1</th>\n",
       "      <td>abs_001</td>\n",
       "      <td>44</td>\n",
       "    </tr>\n",
       "    <tr>\n",
       "      <th>2</th>\n",
       "      <td>abs_002</td>\n",
       "      <td>45</td>\n",
       "    </tr>\n",
       "    <tr>\n",
       "      <th>3</th>\n",
       "      <td>abs_003</td>\n",
       "      <td>52</td>\n",
       "    </tr>\n",
       "    <tr>\n",
       "      <th>4</th>\n",
       "      <td>abs_004</td>\n",
       "      <td>53</td>\n",
       "    </tr>\n",
       "  </tbody>\n",
       "</table>\n",
       "</div>"
      ],
      "text/plain": [
       "  image_id  wind_speed\n",
       "0  abs_000          43\n",
       "1  abs_001          44\n",
       "2  abs_002          45\n",
       "3  abs_003          52\n",
       "4  abs_004          53"
      ]
     },
     "execution_count": 11,
     "metadata": {
      "tags": []
     },
     "output_type": "execute_result"
    }
   ],
   "source": [
    "train_labels.head()"
   ]
  },
  {
   "cell_type": "code",
   "execution_count": 12,
   "metadata": {
    "colab": {
     "base_uri": "https://localhost:8080/"
    },
    "id": "oeYvouItSSkl",
    "outputId": "ff9554fb-6cb5-4169-e143-cadffc669063"
   },
   "outputs": [
    {
     "data": {
      "text/plain": [
       "494"
      ]
     },
     "execution_count": 12,
     "metadata": {
      "tags": []
     },
     "output_type": "execute_result"
    }
   ],
   "source": [
    "# to check if everything loaded fine\n",
    "train_metadata.storm_id.nunique()"
   ]
  },
  {
   "cell_type": "code",
   "execution_count": 13,
   "metadata": {
    "id": "PAyBcuGfSSwx"
   },
   "outputs": [],
   "source": [
    "full_metadata = train_metadata.merge(train_labels, on=\"image_id\")"
   ]
  },
  {
   "cell_type": "code",
   "execution_count": 14,
   "metadata": {
    "id": "m8tuhR65SS-E"
   },
   "outputs": [],
   "source": [
    "full_metadata['file_name'] = full_metadata.image_id.apply(lambda x: f'{directory}train/{x}.jpg')"
   ]
  },
  {
   "cell_type": "code",
   "execution_count": 15,
   "metadata": {
    "colab": {
     "base_uri": "https://localhost:8080/",
     "height": 204
    },
    "id": "y1ZJBOEBVWif",
    "outputId": "7972c032-b225-49ee-da41-9f9f985c7a44"
   },
   "outputs": [
    {
     "data": {
      "text/html": [
       "<div>\n",
       "<style scoped>\n",
       "    .dataframe tbody tr th:only-of-type {\n",
       "        vertical-align: middle;\n",
       "    }\n",
       "\n",
       "    .dataframe tbody tr th {\n",
       "        vertical-align: top;\n",
       "    }\n",
       "\n",
       "    .dataframe thead th {\n",
       "        text-align: right;\n",
       "    }\n",
       "</style>\n",
       "<table border=\"1\" class=\"dataframe\">\n",
       "  <thead>\n",
       "    <tr style=\"text-align: right;\">\n",
       "      <th></th>\n",
       "      <th>image_id</th>\n",
       "      <th>storm_id</th>\n",
       "      <th>relative_time</th>\n",
       "      <th>ocean</th>\n",
       "      <th>wind_speed</th>\n",
       "      <th>file_name</th>\n",
       "    </tr>\n",
       "  </thead>\n",
       "  <tbody>\n",
       "    <tr>\n",
       "      <th>0</th>\n",
       "      <td>abs_000</td>\n",
       "      <td>abs</td>\n",
       "      <td>0</td>\n",
       "      <td>2</td>\n",
       "      <td>43</td>\n",
       "      <td>/content/drive/MyDrive/Lecture_10/train/abs_00...</td>\n",
       "    </tr>\n",
       "    <tr>\n",
       "      <th>1</th>\n",
       "      <td>abs_001</td>\n",
       "      <td>abs</td>\n",
       "      <td>1800</td>\n",
       "      <td>2</td>\n",
       "      <td>44</td>\n",
       "      <td>/content/drive/MyDrive/Lecture_10/train/abs_00...</td>\n",
       "    </tr>\n",
       "    <tr>\n",
       "      <th>2</th>\n",
       "      <td>abs_002</td>\n",
       "      <td>abs</td>\n",
       "      <td>5400</td>\n",
       "      <td>2</td>\n",
       "      <td>45</td>\n",
       "      <td>/content/drive/MyDrive/Lecture_10/train/abs_00...</td>\n",
       "    </tr>\n",
       "    <tr>\n",
       "      <th>3</th>\n",
       "      <td>abs_003</td>\n",
       "      <td>abs</td>\n",
       "      <td>17999</td>\n",
       "      <td>2</td>\n",
       "      <td>52</td>\n",
       "      <td>/content/drive/MyDrive/Lecture_10/train/abs_00...</td>\n",
       "    </tr>\n",
       "    <tr>\n",
       "      <th>4</th>\n",
       "      <td>abs_004</td>\n",
       "      <td>abs</td>\n",
       "      <td>19799</td>\n",
       "      <td>2</td>\n",
       "      <td>53</td>\n",
       "      <td>/content/drive/MyDrive/Lecture_10/train/abs_00...</td>\n",
       "    </tr>\n",
       "  </tbody>\n",
       "</table>\n",
       "</div>"
      ],
      "text/plain": [
       "  image_id  ...                                          file_name\n",
       "0  abs_000  ...  /content/drive/MyDrive/Lecture_10/train/abs_00...\n",
       "1  abs_001  ...  /content/drive/MyDrive/Lecture_10/train/abs_00...\n",
       "2  abs_002  ...  /content/drive/MyDrive/Lecture_10/train/abs_00...\n",
       "3  abs_003  ...  /content/drive/MyDrive/Lecture_10/train/abs_00...\n",
       "4  abs_004  ...  /content/drive/MyDrive/Lecture_10/train/abs_00...\n",
       "\n",
       "[5 rows x 6 columns]"
      ]
     },
     "execution_count": 15,
     "metadata": {
      "tags": []
     },
     "output_type": "execute_result"
    }
   ],
   "source": [
    "full_metadata.head()"
   ]
  },
  {
   "cell_type": "code",
   "execution_count": 16,
   "metadata": {
    "colab": {
     "base_uri": "https://localhost:8080/",
     "height": 303
    },
    "id": "H8oO6r1oVySg",
    "outputId": "518fde8b-271d-4768-d542-c7ac76bba6ba"
   },
   "outputs": [
    {
     "name": "stdout",
     "output_type": "stream",
     "text": [
      "image shape= (366, 366)\n"
     ]
    },
    {
     "data": {
      "text/plain": [
       "<matplotlib.colorbar.Colorbar at 0x7f9866d4fb10>"
      ]
     },
     "execution_count": 16,
     "metadata": {
      "tags": []
     },
     "output_type": "execute_result"
    },
    {
     "data": {
      "image/png": "[encoded data removed]",
      "text/plain": [
       "<Figure size 324x288 with 2 Axes>"
      ]
     },
     "metadata": {
      "needs_background": "light",
      "tags": []
     },
     "output_type": "display_data"
    }
   ],
   "source": [
    "# load a single image and see how it is:\n",
    "img = mpimg.imread(f'{directory}sample_img_abs_010.jpg') #this sample image is included in the shared Google Drive folder\n",
    "print('image shape=',img.shape)\n",
    "plt.figure(figsize=[4.5,4])\n",
    "plt.pcolor(img)\n",
    "plt.colorbar()"
   ]
  },
  {
   "cell_type": "code",
   "execution_count": 17,
   "metadata": {
    "id": "nAZMc_U5STK6"
   },
   "outputs": [],
   "source": [
    "def resize_crop_img(img):\n",
    "    # The function takes an array of a 366x366 image and converts it to a 64x64 shape.\n",
    "    # The input array for this exercise should be 366x366.\n",
    "    #----------------------------------------------\n",
    "    new_img_size = 256\n",
    "    # 1. Cropping a 256x256 size array that has the highest values (i.e the eye of cyclone and its surrounding)\n",
    "    n_passes = img.shape[0] - new_img_size\n",
    "    slice_avg = np.array([[img[row:row+new_img_size,col:col+new_img_size].mean() \\\n",
    "                           for col in range(n_passes)] for row in range(n_passes)])\n",
    "    max_index = np.unravel_index(slice_avg.argmax(), slice_avg.shape)\n",
    "    img_crop = img[max_index[0]:max_index[0]+new_img_size, max_index[1]:max_index[1]+new_img_size]\n",
    "    # 2. Reshaping the array from 256x256 to 64x64 (same as using a MaxPool2D with size=(2,2) and stride=2)\n",
    "    img_crop_resize = img_resize = img_crop.reshape(64, 4, 64, 4).max(-1).max(1)\n",
    "\n",
    "    # another way to do the above but using tensorflow. This is much slower. \n",
    "    # One can also consider using opencv for this part, as that library is very efficient for image processing.\n",
    "    \"\"\"\n",
    "    average_pool_2d = tf.keras.layers.AveragePooling2D(pool_size=(new_img_size, new_img_size), \n",
    "                                                       strides=(1, 1))\n",
    "    max_pool_2d = tf.keras.layers.MaxPool2D(pool_size=(4, 4), \n",
    "                                                       strides=(1, 1))\n",
    "    x = tf.constant(np.trunc(img))\n",
    "    slice_avg = average_pool_2d(tf.reshape(x, [1, 366, 366, 1]))\n",
    "    slice_avg = np.array(slice_avg[0,:,:,0]).reshape(111,111)\n",
    "    img_crop = x[max_index[1]:max_index[1]+new_img_size, max_index[2]:max_index[2]+new_img_size]\n",
    "    img_crop_resize = max_pool_2d(tf.reshape(x, [1, 256, 256, 1]))\n",
    "    \"\"\"\n",
    "\n",
    "    return img_crop_resize"
   ]
  },
  {
   "cell_type": "code",
   "execution_count": 18,
   "metadata": {
    "colab": {
     "base_uri": "https://localhost:8080/",
     "height": 555
    },
    "id": "E7ZU8pNYpBxO",
    "outputId": "83179038-53c4-49e3-f2ef-a710f58c859e"
   },
   "outputs": [
    {
     "name": "stdout",
     "output_type": "stream",
     "text": [
      "Original image shape= (366, 366)\n",
      "Resized image shape= (64, 64)\n"
     ]
    },
    {
     "data": {
      "image/png": "[encoded data removed]",
      "text/plain": [
       "<Figure size 324x288 with 2 Axes>"
      ]
     },
     "metadata": {
      "needs_background": "light",
      "tags": []
     },
     "output_type": "display_data"
    },
    {
     "data": {
      "image/png": "[encoded data removed]",
      "text/plain": [
       "<Figure size 324x288 with 2 Axes>"
      ]
     },
     "metadata": {
      "needs_background": "light",
      "tags": []
     },
     "output_type": "display_data"
    }
   ],
   "source": [
    "# load a single image and see how the resizing works:\n",
    "img = mpimg.imread(f'{directory}/sample_img_abs_010.jpg')\n",
    "print('Original image shape=',img.shape)\n",
    "plt.figure(figsize=[4.5,4])\n",
    "plt.pcolor(img, cmap='RdYlBu')\n",
    "plt.colorbar()\n",
    "plt.figure(figsize=[4.5,4])\n",
    "plt.pcolor(resize_crop_img(img), cmap='RdYlBu')\n",
    "print('Resized image shape=',resize_crop_img(img).shape)\n",
    "plt.colorbar();"
   ]
  },
  {
   "cell_type": "code",
   "execution_count": 19,
   "metadata": {
    "id": "A_Xk7BA8Svc_"
   },
   "outputs": [],
   "source": [
    "# Add a temporary column for number of images per storm\n",
    "images_per_storm = full_metadata.groupby(\"storm_id\").size().to_frame(\"images_per_storm\")\n",
    "full_metadata = full_metadata.merge(images_per_storm, how=\"left\", on=\"storm_id\")"
   ]
  },
  {
   "cell_type": "code",
   "execution_count": 20,
   "metadata": {
    "id": "wmqnFXyQSvZP"
   },
   "outputs": [],
   "source": [
    "# Each storm is sorted by relative time\n",
    "# Identify the final 20% of images per storm\n",
    "full_metadata[\"pct_of_storm\"] = (\n",
    "    full_metadata.groupby(\"storm_id\").cumcount() / full_metadata.images_per_storm\n",
    ")\n",
    "train = full_metadata[full_metadata.pct_of_storm < 0.8].drop(\n",
    "    [\"images_per_storm\", \"pct_of_storm\"], axis=1\n",
    ")\n",
    "val = full_metadata[full_metadata.pct_of_storm >= 0.8].drop(\n",
    "    [\"images_per_storm\", \"pct_of_storm\"], axis=1\n",
    ")"
   ]
  },
  {
   "cell_type": "code",
   "execution_count": 21,
   "metadata": {
    "colab": {
     "base_uri": "https://localhost:8080/",
     "height": 111
    },
    "id": "2O8nWUhBSvVt",
    "outputId": "946eb2b3-567e-4066-84ef-6f151f5b7837"
   },
   "outputs": [
    {
     "data": {
      "text/html": [
       "<div>\n",
       "<style scoped>\n",
       "    .dataframe tbody tr th:only-of-type {\n",
       "        vertical-align: middle;\n",
       "    }\n",
       "\n",
       "    .dataframe tbody tr th {\n",
       "        vertical-align: top;\n",
       "    }\n",
       "\n",
       "    .dataframe thead th {\n",
       "        text-align: right;\n",
       "    }\n",
       "</style>\n",
       "<table border=\"1\" class=\"dataframe\">\n",
       "  <thead>\n",
       "    <tr style=\"text-align: right;\">\n",
       "      <th></th>\n",
       "      <th>image_id</th>\n",
       "      <th>storm_id</th>\n",
       "      <th>relative_time</th>\n",
       "      <th>ocean</th>\n",
       "      <th>wind_speed</th>\n",
       "      <th>file_name</th>\n",
       "    </tr>\n",
       "  </thead>\n",
       "  <tbody>\n",
       "    <tr>\n",
       "      <th>0</th>\n",
       "      <td>abs_000</td>\n",
       "      <td>abs</td>\n",
       "      <td>0</td>\n",
       "      <td>2</td>\n",
       "      <td>43</td>\n",
       "      <td>/content/drive/MyDrive/Lecture_10/train/abs_00...</td>\n",
       "    </tr>\n",
       "    <tr>\n",
       "      <th>1</th>\n",
       "      <td>abs_001</td>\n",
       "      <td>abs</td>\n",
       "      <td>1800</td>\n",
       "      <td>2</td>\n",
       "      <td>44</td>\n",
       "      <td>/content/drive/MyDrive/Lecture_10/train/abs_00...</td>\n",
       "    </tr>\n",
       "  </tbody>\n",
       "</table>\n",
       "</div>"
      ],
      "text/plain": [
       "  image_id  ...                                          file_name\n",
       "0  abs_000  ...  /content/drive/MyDrive/Lecture_10/train/abs_00...\n",
       "1  abs_001  ...  /content/drive/MyDrive/Lecture_10/train/abs_00...\n",
       "\n",
       "[2 rows x 6 columns]"
      ]
     },
     "execution_count": 21,
     "metadata": {
      "tags": []
     },
     "output_type": "execute_result"
    }
   ],
   "source": [
    "train.head(2)"
   ]
  },
  {
   "cell_type": "markdown",
   "metadata": {
    "id": "kzj675_oSvPq"
   },
   "source": [
    "# 3. Resizing training data (only done if limited memory):"
   ]
  },
  {
   "cell_type": "code",
   "execution_count": null,
   "metadata": {
    "id": "ws2gI1Gaqyie"
   },
   "outputs": [],
   "source": [
    "# This part is only done to reduce input file size and to be able to run the code using limited memory \n",
    "# on Google Colab. If you are not limited with computation power, you can skip sections 3 & 4.\n",
    "# The resulting files from section 3 and 4 are already saved in the shared Google Drive"
   ]
  },
  {
   "cell_type": "code",
   "execution_count": null,
   "metadata": {
    "id": "P5AKBhlOSvCT"
   },
   "outputs": [],
   "source": [
    "def extract_data_chunk(i, period):\n",
    "    chunk_size = 1000\n",
    "    if period == 'train':\n",
    "        if i == len(train)//chunk_size:\n",
    "            x_train = np.stack(([resize_crop_img(mpimg.imread(train.file_name.iloc[x])/255) \\\n",
    "                                 for x in range(chunk_size*i,len(train))]),\n",
    "                               axis=2).transpose(2, 0, 1).reshape(chunk_size*i-len(train),64,64,1)\n",
    "        else:\n",
    "            x_train = np.stack(([resize_crop_img(mpimg.imread(train.file_name.iloc[x])/255) \\\n",
    "                                for x in range(chunk_size*i,chunk_size*(i+1))]),\n",
    "                               axis=2).transpose(2, 0, 1).reshape(chunk_size,64,64,1)\n",
    "        np.save(f'{directory}/chunks/x_train_part_{i:03.0f}.npy',\n",
    "                x_train, allow_pickle=False)\n",
    "\n",
    "    elif period == 'val':\n",
    "        if i == len(val)//chunk_size:\n",
    "            x_val = np.stack(([resize_crop_img(mpimg.imread(val.file_name.iloc[x])/255) \\\n",
    "                               for x in range(chunk_size*i,len(val))]),\n",
    "                             axis=2).transpose(2, 0, 1).reshape(chunk_size*i-len(val),64,64,1)\n",
    "        else:\n",
    "            x_val = np.stack(([resize_crop_img(mpimg.imread(val.file_name.iloc[x])/255) \\\n",
    "                                for x in range(chunk_size*i,chunk_size*(i+1))]),\n",
    "                             axis=2).transpose(2, 0, 1).reshape(chunk_size,64,64,1)\n",
    "        np.save(f'{directory}/chunks/x_val_part_{i:03.0f}.npy',\n",
    "                x_val, allow_pickle=False)"
   ]
  },
  {
   "cell_type": "code",
   "execution_count": null,
   "metadata": {
    "id": "eI2dYOZdSTWt"
   },
   "outputs": [],
   "source": [
    "for i in range(14):\n",
    "    extract_data_chunk(i, period='val')\n",
    "for i in range(57):\n",
    "    extract_data_chunk(i, period='train')"
   ]
  },
  {
   "cell_type": "code",
   "execution_count": null,
   "metadata": {
    "id": "CGHNPQ6VTf5s"
   },
   "outputs": [],
   "source": [
    "# Stacking images\n",
    "dir_str = f'{directory}chunks'\n",
    "x_train = np.concatenate(([np.load(f'{dir_str}/x_train_part_{i:03.0f}.npy') for i in range(57)]),\n",
    "                    axis=0)\n",
    "x_val = np.concatenate(([np.load(f'{dir_str}/x_val_part_{i:03.0f}.npy') for i in range(14)]),\n",
    "                    axis=0)"
   ]
  },
  {
   "cell_type": "code",
   "execution_count": null,
   "metadata": {
    "id": "FScXFfdYTf1V"
   },
   "outputs": [],
   "source": [
    "x_train.shape, x_val.shape"
   ]
  },
  {
   "cell_type": "code",
   "execution_count": null,
   "metadata": {
    "id": "3hl6SRvPTfwh"
   },
   "outputs": [],
   "source": [
    "len(train), len(val)"
   ]
  },
  {
   "cell_type": "code",
   "execution_count": null,
   "metadata": {
    "id": "q-_eO6RITfrx"
   },
   "outputs": [],
   "source": [
    "y_train = train.wind_speed.iloc[:len(x_train)].values\n",
    "y_val = val.wind_speed.iloc[:len(x_val)].values"
   ]
  },
  {
   "cell_type": "code",
   "execution_count": null,
   "metadata": {
    "id": "f--uWtDUTfnJ"
   },
   "outputs": [],
   "source": [
    "y_train.shape, y_val.shape"
   ]
  },
  {
   "cell_type": "code",
   "execution_count": null,
   "metadata": {
    "id": "ofOTKDL1Tfi1"
   },
   "outputs": [],
   "source": [
    "#np.save(f'{directory}x_train.npy', x_train, allow_pickle=False)\n",
    "#np.save(f'{directory}x_val.npy', x_val, allow_pickle=False)"
   ]
  },
  {
   "cell_type": "markdown",
   "metadata": {
    "id": "D9n6EPH8TfeQ"
   },
   "source": [
    "# 4. Reshaping test data (only done if limited memory):"
   ]
  },
  {
   "cell_type": "code",
   "execution_count": 17,
   "metadata": {
    "id": "OaR7dz_jTfYK"
   },
   "outputs": [],
   "source": [
    "test_metadata  = pd.read_csv(f'{directory}test_set_features.csv')"
   ]
  },
  {
   "cell_type": "code",
   "execution_count": null,
   "metadata": {
    "id": "VD0GlBfJTfOc"
   },
   "outputs": [],
   "source": [
    "test_metadata['file_name'] = test_metadata.image_id.apply(lambda x: f'{directory}/test/{x}.jpg')\n",
    "test_metadata.head(3)"
   ]
  },
  {
   "cell_type": "code",
   "execution_count": null,
   "metadata": {
    "id": "0RU2F8-bUFCU"
   },
   "outputs": [],
   "source": [
    "len(test_metadata)"
   ]
  },
  {
   "cell_type": "code",
   "execution_count": 20,
   "metadata": {
    "id": "WDr8oaVWUE8y"
   },
   "outputs": [],
   "source": [
    "def extract_testdata_chunk(i, test_metadata):\n",
    "    chunk_size = 1000\n",
    "    if i == len(test_metadata)//chunk_size:\n",
    "        x_test = np.stack(([resize_crop_img(mpimg.imread(test_metadata.file_name.iloc[x])/255) \\\n",
    "                              for x in range(chunk_size*i,len(test_metadata))]),\n",
    "                            axis=2).transpose(2, 0, 1).reshape(chunk_size*i-len(test_metadata),64,64,1)\n",
    "    else:\n",
    "        x_test = np.stack(([resize_crop_img(mpimg.imread(test_metadata.file_name.iloc[x])/255) \\\n",
    "                            for x in range(chunk_size*i,chunk_size*(i+1))]),\n",
    "                            axis=2).transpose(2, 0, 1).reshape(chunk_size,64,64,1)\n",
    "    np.save(f'{directory}/chunks/x_test_part_{i:03.0f}.npy',\n",
    "            x_test, allow_pickle=False)"
   ]
  },
  {
   "cell_type": "code",
   "execution_count": null,
   "metadata": {
    "id": "ZD3No8yiUE4G"
   },
   "outputs": [],
   "source": [
    "for i in range(45):\n",
    "    start_time = time.time()\n",
    "    extract_testdata_chunk(i, test_metadata)\n",
    "    print(f'Part {i} is done!')\n",
    "    print(\"--- %s seconds ---\" % (time.time() - start_time))"
   ]
  },
  {
   "cell_type": "code",
   "execution_count": null,
   "metadata": {
    "id": "BWR_W2y6UEy9"
   },
   "outputs": [],
   "source": [
    "# Stacking images\n",
    "dir_str = f'{directory}/chunks'\n",
    "x_test = np.concatenate(([np.load(f'{dir_str}/x_test_part_{i:03.0f}.npy') for i in range(45)]),\n",
    "                    axis=0)"
   ]
  },
  {
   "cell_type": "code",
   "execution_count": null,
   "metadata": {
    "id": "zxyKbkXNUEuC"
   },
   "outputs": [],
   "source": [
    "x_test.shape"
   ]
  },
  {
   "cell_type": "code",
   "execution_count": null,
   "metadata": {
    "id": "mTuKQyeoUEoP"
   },
   "outputs": [],
   "source": [
    "#np.save(f'{directory}x_test.npy', x_test, allow_pickle=False)"
   ]
  },
  {
   "cell_type": "markdown",
   "metadata": {
    "id": "gEbQAcaeUEjo"
   },
   "source": [
    "# 5. Rotating and duplicating low frequency images"
   ]
  },
  {
   "cell_type": "markdown",
   "metadata": {
    "id": "7G8HajsJHEyM"
   },
   "source": [
    "'''\n",
    "To load the data from the shared Google drive, open the shared drive, right click on the folder, and select \"Add shortcut to Drive\" and select My Drive. You will then be able to access and load the data in Google Colab.\n",
    "'''"
   ]
  },
  {
   "cell_type": "code",
   "execution_count": 22,
   "metadata": {
    "id": "K4lYzxYkUEep"
   },
   "outputs": [],
   "source": [
    "x_train = np.load(f'{directory}x_train.npy')\n",
    "x_val = np.load(f'{directory}x_val.npy')\n",
    "y_train = train.wind_speed.iloc[:len(x_train)].values\n",
    "y_val = val.wind_speed.iloc[:len(x_val)].values"
   ]
  },
  {
   "cell_type": "code",
   "execution_count": 23,
   "metadata": {
    "colab": {
     "base_uri": "https://localhost:8080/"
    },
    "id": "WK8_INGhUEZ2",
    "outputId": "58a971a4-e99b-48d6-9f0e-0dbd0a07dcb8"
   },
   "outputs": [
    {
     "data": {
      "text/plain": [
       "((56392, 64, 64, 1), (13865, 64, 64, 1))"
      ]
     },
     "execution_count": 23,
     "metadata": {
      "tags": []
     },
     "output_type": "execute_result"
    }
   ],
   "source": [
    "x_train.shape, x_val.shape"
   ]
  },
  {
   "cell_type": "code",
   "execution_count": 24,
   "metadata": {
    "colab": {
     "base_uri": "https://localhost:8080/"
    },
    "id": "l4v7dQCXUEVI",
    "outputId": "ac04a1ee-b8fe-41eb-c117-408e1c40a251"
   },
   "outputs": [
    {
     "data": {
      "text/plain": [
       "((56392,), (13865,))"
      ]
     },
     "execution_count": 24,
     "metadata": {
      "tags": []
     },
     "output_type": "execute_result"
    }
   ],
   "source": [
    "y_train.shape, y_val.shape"
   ]
  },
  {
   "cell_type": "code",
   "execution_count": 25,
   "metadata": {
    "id": "XSRCxVSnUEQB"
   },
   "outputs": [],
   "source": [
    "# For data augmentation and rotating input images, I am only focusing on the images corresponding to wind speeds\n",
    "# above 40. The value 40 is an arbitrary value to make sure that the code is still able to be run on Google Colab.\n",
    "train_highwind = train.reset_index(drop=True)[train.reset_index(drop=True).wind_speed>40]\n",
    "#train_highwind.head()"
   ]
  },
  {
   "cell_type": "code",
   "execution_count": 26,
   "metadata": {
    "id": "zrWATETcUEK-"
   },
   "outputs": [],
   "source": [
    "x_highwind = x_train[train_highwind.index,:,:,:]\n",
    "y_highwind = y_train[train_highwind.index]\n",
    "x_highwind_rot1 = np.rot90(x_highwind, axes=(1,2))\n",
    "x_highwind_rot2 = np.rot90(x_highwind, 2, axes=(1,2))\n",
    "x_highwind_rot3 = np.rot90(x_highwind, 3, axes=(1,2))"
   ]
  },
  {
   "cell_type": "code",
   "execution_count": 27,
   "metadata": {
    "colab": {
     "base_uri": "https://localhost:8080/",
     "height": 255
    },
    "id": "8d66RTJ3UEGZ",
    "outputId": "785e1c70-d8d7-4780-9c67-500a57c24970"
   },
   "outputs": [
    {
     "data": {
      "text/plain": [
       "<matplotlib.collections.PolyCollection at 0x7f985e18b290>"
      ]
     },
     "execution_count": 27,
     "metadata": {
      "tags": []
     },
     "output_type": "execute_result"
    },
    {
     "data": {
      "image/png": "[encoded data removed]",
      "text/plain": [
       "<Figure size 1080x252 with 4 Axes>"
      ]
     },
     "metadata": {
      "needs_background": "light",
      "tags": []
     },
     "output_type": "display_data"
    }
   ],
   "source": [
    "# Sample plot for rotating: \n",
    "plt.figure(figsize=[15,3.5])\n",
    "plt.subplot(141)\n",
    "plt.pcolor(x_highwind[0,:,:,0], cmap='RdYlBu')\n",
    "plt.subplot(142)\n",
    "plt.pcolor(x_highwind_rot1[0,:,:,0],cmap='RdYlBu')\n",
    "plt.subplot(143)\n",
    "plt.pcolor(x_highwind_rot2[0,:,:,0],cmap='RdYlBu')\n",
    "plt.subplot(144)\n",
    "plt.pcolor(x_highwind_rot3[0,:,:,0],cmap='RdYlBu')"
   ]
  },
  {
   "cell_type": "code",
   "execution_count": 28,
   "metadata": {
    "id": "NZ2-QHh0V68y"
   },
   "outputs": [],
   "source": [
    "x_train_extra = np.concatenate((x_train,x_highwind_rot1,x_highwind_rot2,x_highwind_rot3), axis=0)\n",
    "y_train_extra = np.concatenate((y_train,y_highwind,y_highwind,y_highwind), axis=0)"
   ]
  },
  {
   "cell_type": "code",
   "execution_count": 29,
   "metadata": {
    "colab": {
     "base_uri": "https://localhost:8080/"
    },
    "id": "ncY8idi4V63a",
    "outputId": "cfc1fc86-74ed-4a90-bf8c-622ccaac8e41"
   },
   "outputs": [
    {
     "data": {
      "text/plain": [
       "((56392, 64, 64, 1), (150646, 64, 64, 1))"
      ]
     },
     "execution_count": 29,
     "metadata": {
      "tags": []
     },
     "output_type": "execute_result"
    }
   ],
   "source": [
    "x_train.shape, x_train_extra.shape"
   ]
  },
  {
   "cell_type": "code",
   "execution_count": 30,
   "metadata": {
    "colab": {
     "base_uri": "https://localhost:8080/"
    },
    "id": "EKCtbCcIV6yr",
    "outputId": "06de0165-f9be-4c38-cc0d-94d57e0e1618"
   },
   "outputs": [
    {
     "data": {
      "text/plain": [
       "((56392,), (150646,))"
      ]
     },
     "execution_count": 30,
     "metadata": {
      "tags": []
     },
     "output_type": "execute_result"
    }
   ],
   "source": [
    "y_train.shape, y_train_extra.shape"
   ]
  },
  {
   "cell_type": "markdown",
   "metadata": {
    "id": "4KzEHdYjWGEy"
   },
   "source": [
    "# 6. Developing the CNN model:"
   ]
  },
  {
   "cell_type": "code",
   "execution_count": 2,
   "metadata": {
    "id": "1UHpbKSrV6tY"
   },
   "outputs": [],
   "source": [
    "import tensorflow as tf\n",
    "from tensorflow.keras.models import Sequential, load_model\n",
    "from tensorflow.keras.layers import AveragePooling2D, BatchNormalization, Conv2D, Dense, Dropout, Flatten, MaxPool2D\n",
    "from tensorflow.keras.callbacks import EarlyStopping#, ModelCheckpoint\n",
    "#from tensorflow.keras.optimizers import SGD\n",
    "from functools import partial\n",
    "from sklearn.metrics import mean_squared_error\n",
    "from sklearn.metrics import mean_absolute_error"
   ]
  },
  {
   "cell_type": "code",
   "execution_count": 3,
   "metadata": {
    "id": "dAWkzxpUV6on"
   },
   "outputs": [],
   "source": [
    "alpha = 0.0001\n",
    "padding = 'same' #'valid'\n",
    "activation = tf.keras.layers.LeakyReLU(alpha=alpha) #'relu'\n",
    "optimizer = 'adam' #SGD(learning_rate=0.01)\n",
    "\n",
    "model = Sequential()\n",
    "#first layer\n",
    "model.add(Conv2D(filters=64, kernel_size=(3,3),input_shape=(64, 64, 1), \n",
    "                activation=activation, padding=padding))\n",
    "model.add(AveragePooling2D(pool_size=(2, 2), padding='valid'))\n",
    "model.add(Dropout(0.35))\n",
    "# second layer\n",
    "model.add(Conv2D(filters=128, kernel_size=(2,2), activation=activation))\n",
    "model.add(AveragePooling2D(pool_size=(2, 2), padding='valid'))\n",
    "model.add(Dropout(0.3))\n",
    "# third layer\n",
    "model.add(Conv2D(filters=256, kernel_size=(2,2), activation=activation))\n",
    "model.add(MaxPool2D(pool_size=(2, 2), padding=padding))\n",
    "model.add(Dropout(0.3))\n",
    "# fourth layer\n",
    "model.add(Conv2D(filters=256, kernel_size=(2,2), activation=activation))\n",
    "model.add(MaxPool2D(pool_size=(2, 2), padding=padding))\n",
    "model.add(Dropout(0.3))\n",
    "# fifth layer\n",
    "model.add(Conv2D(filters=512, kernel_size=(2,2), activation=activation))\n",
    "model.add(Dropout(0.3))\n",
    "# sixth layer\n",
    "model.add(Conv2D(filters=512, kernel_size=(2,2), activation=activation))\n",
    "model.add(Dropout(0.3))\n",
    "# Dense layer\n",
    "model.add(Flatten())\n",
    "model.add(Dense(1024, activation=activation))\n",
    "model.add(Dropout(0.3))\n",
    "model.add(Dense(1024, activation=activation))\n",
    "model.add(Dropout(0.25))\n",
    "model.add(Dense(1, activation=activation))\n",
    "\n",
    "model.compile(loss='mse', optimizer=optimizer, metrics=['accuracy'])\n",
    "\n",
    "#model.add(MaxPool2D(pool_size=(2, 2), padding='valid'))\n",
    "#model.add(AveragePooling2D(pool_size=(2, 2), padding='valid'))"
   ]
  },
  {
   "cell_type": "code",
   "execution_count": 34,
   "metadata": {
    "colab": {
     "base_uri": "https://localhost:8080/"
    },
    "id": "s0Am0SJAV6jj",
    "outputId": "d7506594-7b8d-475e-9765-a6ca93079290"
   },
   "outputs": [
    {
     "name": "stdout",
     "output_type": "stream",
     "text": [
      "Model: \"sequential\"\n",
      "_________________________________________________________________\n",
      "Layer (type)                 Output Shape              Param #   \n",
      "=================================================================\n",
      "conv2d (Conv2D)              (None, 64, 64, 64)        640       \n",
      "_________________________________________________________________\n",
      "average_pooling2d (AveragePo (None, 32, 32, 64)        0         \n",
      "_________________________________________________________________\n",
      "dropout (Dropout)            (None, 32, 32, 64)        0         \n",
      "_________________________________________________________________\n",
      "conv2d_1 (Conv2D)            (None, 31, 31, 128)       32896     \n",
      "_________________________________________________________________\n",
      "average_pooling2d_1 (Average (None, 15, 15, 128)       0         \n",
      "_________________________________________________________________\n",
      "dropout_1 (Dropout)          (None, 15, 15, 128)       0         \n",
      "_________________________________________________________________\n",
      "conv2d_2 (Conv2D)            (None, 14, 14, 256)       131328    \n",
      "_________________________________________________________________\n",
      "max_pooling2d (MaxPooling2D) (None, 7, 7, 256)         0         \n",
      "_________________________________________________________________\n",
      "dropout_2 (Dropout)          (None, 7, 7, 256)         0         \n",
      "_________________________________________________________________\n",
      "conv2d_3 (Conv2D)            (None, 6, 6, 256)         262400    \n",
      "_________________________________________________________________\n",
      "max_pooling2d_1 (MaxPooling2 (None, 3, 3, 256)         0         \n",
      "_________________________________________________________________\n",
      "dropout_3 (Dropout)          (None, 3, 3, 256)         0         \n",
      "_________________________________________________________________\n",
      "conv2d_4 (Conv2D)            (None, 2, 2, 512)         524800    \n",
      "_________________________________________________________________\n",
      "dropout_4 (Dropout)          (None, 2, 2, 512)         0         \n",
      "_________________________________________________________________\n",
      "conv2d_5 (Conv2D)            (None, 1, 1, 512)         1049088   \n",
      "_________________________________________________________________\n",
      "dropout_5 (Dropout)          (None, 1, 1, 512)         0         \n",
      "_________________________________________________________________\n",
      "flatten (Flatten)            (None, 512)               0         \n",
      "_________________________________________________________________\n",
      "dense (Dense)                (None, 1024)              525312    \n",
      "_________________________________________________________________\n",
      "dropout_6 (Dropout)          (None, 1024)              0         \n",
      "_________________________________________________________________\n",
      "dense_1 (Dense)              (None, 1024)              1049600   \n",
      "_________________________________________________________________\n",
      "dropout_7 (Dropout)          (None, 1024)              0         \n",
      "_________________________________________________________________\n",
      "dense_2 (Dense)              (None, 1)                 1025      \n",
      "=================================================================\n",
      "Total params: 3,577,089\n",
      "Trainable params: 3,577,089\n",
      "Non-trainable params: 0\n",
      "_________________________________________________________________\n"
     ]
    }
   ],
   "source": [
    "model.summary()"
   ]
  },
  {
   "cell_type": "code",
   "execution_count": 35,
   "metadata": {
    "id": "blUXtauQV6eY"
   },
   "outputs": [],
   "source": [
    "earlyStopping = EarlyStopping(monitor='val_loss', patience=8, verbose=0, mode='min')\n",
    "#mcp_save = ModelCheckpoint('weights.hdf5', save_best_only=True, monitor='val_loss', mode='min')\n",
    "#reduce_lr_loss = ReduceLROnPlateau(monitor='val_loss', factor=0.1, patience=7, verbose=1, epsilon=1e-4, mode='min')"
   ]
  },
  {
   "cell_type": "code",
   "execution_count": 36,
   "metadata": {
    "id": "wKziJ5WyV6Zx"
   },
   "outputs": [],
   "source": [
    "del x_train #to make the memory available for training the model"
   ]
  },
  {
   "cell_type": "markdown",
   "metadata": {
    "id": "WY7fMBFnV6Ur"
   },
   "source": [
    "# 7. Model fitting:"
   ]
  },
  {
   "cell_type": "code",
   "execution_count": 37,
   "metadata": {
    "colab": {
     "base_uri": "https://localhost:8080/"
    },
    "id": "RShoaB2fV6P6",
    "outputId": "5201d935-8c94-4e32-9726-89799c650979"
   },
   "outputs": [
    {
     "name": "stdout",
     "output_type": "stream",
     "text": [
      "Epoch 1/30\n",
      "189/189 [==============================] - 96s 314ms/step - loss: 3321.3680 - accuracy: 0.0000e+00 - val_loss: 498.3908 - val_accuracy: 0.0000e+00\n",
      "Epoch 2/30\n",
      "189/189 [==============================] - 57s 300ms/step - loss: 656.9344 - accuracy: 0.0000e+00 - val_loss: 428.0545 - val_accuracy: 0.0000e+00\n",
      "Epoch 3/30\n",
      "189/189 [==============================] - 58s 306ms/step - loss: 623.4882 - accuracy: 0.0000e+00 - val_loss: 339.3033 - val_accuracy: 0.0000e+00\n",
      "Epoch 4/30\n",
      "189/189 [==============================] - 59s 311ms/step - loss: 582.8405 - accuracy: 0.0000e+00 - val_loss: 350.6875 - val_accuracy: 0.0000e+00\n",
      "Epoch 5/30\n",
      "189/189 [==============================] - 59s 311ms/step - loss: 513.4337 - accuracy: 0.0000e+00 - val_loss: 299.2025 - val_accuracy: 0.0000e+00\n",
      "Epoch 6/30\n",
      "189/189 [==============================] - 59s 311ms/step - loss: 455.4385 - accuracy: 0.0000e+00 - val_loss: 305.9107 - val_accuracy: 0.0000e+00\n",
      "Epoch 7/30\n",
      "189/189 [==============================] - 59s 312ms/step - loss: 413.6306 - accuracy: 0.0000e+00 - val_loss: 245.9166 - val_accuracy: 0.0000e+00\n",
      "Epoch 8/30\n",
      "189/189 [==============================] - 59s 311ms/step - loss: 377.2615 - accuracy: 0.0000e+00 - val_loss: 236.0350 - val_accuracy: 0.0000e+00\n",
      "Epoch 9/30\n",
      "189/189 [==============================] - 59s 312ms/step - loss: 346.7882 - accuracy: 0.0000e+00 - val_loss: 172.4543 - val_accuracy: 0.0000e+00\n",
      "Epoch 10/30\n",
      "189/189 [==============================] - 59s 312ms/step - loss: 311.0554 - accuracy: 0.0000e+00 - val_loss: 150.7326 - val_accuracy: 0.0000e+00\n",
      "Epoch 11/30\n",
      "189/189 [==============================] - 59s 311ms/step - loss: 278.4732 - accuracy: 0.0000e+00 - val_loss: 150.7411 - val_accuracy: 0.0000e+00\n",
      "Epoch 12/30\n",
      "189/189 [==============================] - 59s 311ms/step - loss: 261.6571 - accuracy: 0.0000e+00 - val_loss: 134.9536 - val_accuracy: 0.0000e+00\n",
      "Epoch 13/30\n",
      "189/189 [==============================] - 59s 311ms/step - loss: 245.3851 - accuracy: 0.0000e+00 - val_loss: 119.7492 - val_accuracy: 0.0000e+00\n",
      "Epoch 14/30\n",
      "189/189 [==============================] - 59s 312ms/step - loss: 229.4541 - accuracy: 0.0000e+00 - val_loss: 128.2769 - val_accuracy: 0.0000e+00\n",
      "Epoch 15/30\n",
      "189/189 [==============================] - 59s 312ms/step - loss: 230.5265 - accuracy: 0.0000e+00 - val_loss: 113.9305 - val_accuracy: 0.0000e+00\n",
      "Epoch 16/30\n",
      "189/189 [==============================] - 59s 311ms/step - loss: 221.5459 - accuracy: 0.0000e+00 - val_loss: 113.9557 - val_accuracy: 0.0000e+00\n",
      "Epoch 17/30\n",
      "189/189 [==============================] - 59s 311ms/step - loss: 209.5417 - accuracy: 0.0000e+00 - val_loss: 118.6251 - val_accuracy: 0.0000e+00\n",
      "Epoch 18/30\n",
      "189/189 [==============================] - 59s 311ms/step - loss: 204.1009 - accuracy: 0.0000e+00 - val_loss: 117.4980 - val_accuracy: 0.0000e+00\n",
      "Epoch 19/30\n",
      "189/189 [==============================] - 59s 311ms/step - loss: 202.7510 - accuracy: 0.0000e+00 - val_loss: 122.1111 - val_accuracy: 0.0000e+00\n",
      "Epoch 20/30\n",
      "189/189 [==============================] - 59s 311ms/step - loss: 190.8475 - accuracy: 0.0000e+00 - val_loss: 112.9954 - val_accuracy: 0.0000e+00\n",
      "Epoch 21/30\n",
      "189/189 [==============================] - 59s 311ms/step - loss: 184.7784 - accuracy: 0.0000e+00 - val_loss: 110.0949 - val_accuracy: 0.0000e+00\n",
      "Epoch 22/30\n",
      "189/189 [==============================] - 59s 312ms/step - loss: 180.6673 - accuracy: 0.0000e+00 - val_loss: 112.5594 - val_accuracy: 0.0000e+00\n",
      "Epoch 23/30\n",
      "189/189 [==============================] - 59s 311ms/step - loss: 181.7715 - accuracy: 0.0000e+00 - val_loss: 123.0723 - val_accuracy: 0.0000e+00\n",
      "Epoch 24/30\n",
      "189/189 [==============================] - 59s 311ms/step - loss: 171.3245 - accuracy: 0.0000e+00 - val_loss: 108.4919 - val_accuracy: 0.0000e+00\n",
      "Epoch 25/30\n",
      "189/189 [==============================] - 59s 311ms/step - loss: 173.0269 - accuracy: 0.0000e+00 - val_loss: 106.6594 - val_accuracy: 0.0000e+00\n",
      "Epoch 26/30\n",
      "189/189 [==============================] - 59s 312ms/step - loss: 162.0605 - accuracy: 0.0000e+00 - val_loss: 110.5584 - val_accuracy: 0.0000e+00\n",
      "Epoch 27/30\n",
      "189/189 [==============================] - 59s 312ms/step - loss: 161.8584 - accuracy: 0.0000e+00 - val_loss: 108.5599 - val_accuracy: 0.0000e+00\n",
      "Epoch 28/30\n",
      "189/189 [==============================] - 59s 312ms/step - loss: 153.9400 - accuracy: 0.0000e+00 - val_loss: 120.9673 - val_accuracy: 0.0000e+00\n",
      "Epoch 29/30\n",
      "189/189 [==============================] - 59s 311ms/step - loss: 157.1866 - accuracy: 0.0000e+00 - val_loss: 106.7811 - val_accuracy: 0.0000e+00\n",
      "Epoch 30/30\n",
      "189/189 [==============================] - 59s 312ms/step - loss: 151.0791 - accuracy: 0.0000e+00 - val_loss: 112.2568 - val_accuracy: 0.0000e+00\n"
     ]
    },
    {
     "data": {
      "text/plain": [
       "<tensorflow.python.keras.callbacks.History at 0x7fa37478ccd0>"
      ]
     },
     "execution_count": 37,
     "metadata": {
      "tags": []
     },
     "output_type": "execute_result"
    }
   ],
   "source": [
    "model.fit(x_train_extra,y_train_extra,epochs=30,validation_data=(x_val,y_val), batch_size=800)\n",
    "#model.fit(x_train_extra,y_train_extra,epochs=15,validation_data=(x_val,y_val), batch_size=1000,callbacks=[earlyStopping, mcp_save])"
   ]
  },
  {
   "cell_type": "code",
   "execution_count": 38,
   "metadata": {
    "colab": {
     "base_uri": "https://localhost:8080/",
     "height": 282
    },
    "id": "VSzkKpVUTeh9",
    "outputId": "ee6bad5a-d535-4ef1-d07a-1f1f39a5e171"
   },
   "outputs": [
    {
     "data": {
      "text/plain": [
       "<matplotlib.axes._subplots.AxesSubplot at 0x7fa328151b10>"
      ]
     },
     "execution_count": 38,
     "metadata": {
      "tags": []
     },
     "output_type": "execute_result"
    },
    {
     "data": {
      "image/png": "[encoded data removed]",
      "text/plain": [
       "<Figure size 432x288 with 1 Axes>"
      ]
     },
     "metadata": {
      "needs_background": "light",
      "tags": []
     },
     "output_type": "display_data"
    }
   ],
   "source": [
    "losses = pd.DataFrame(model.history.history)\n",
    "losses[['loss', 'val_loss']].plot()"
   ]
  },
  {
   "cell_type": "code",
   "execution_count": null,
   "metadata": {
    "colab": {
     "base_uri": "https://localhost:8080/"
    },
    "id": "7LOVV-YhiAiV",
    "outputId": "6c551207-fab7-42b9-e57c-a7aac8d91f8a"
   },
   "outputs": [],
   "source": [
    "# Saving model \n",
    "model.save('saved_tc_model') # the input to model.save() should a path that you would like to save the model to"
   ]
  },
  {
   "cell_type": "code",
   "execution_count": 31,
   "metadata": {
    "id": "vdMusAm0LO2p"
   },
   "outputs": [],
   "source": [
    "# Loading the pretrained model (if already available):\n",
    "model = load_model(f'{directory}saved_tc_model')"
   ]
  },
  {
   "cell_type": "code",
   "execution_count": 32,
   "metadata": {
    "id": "etacPyU2XVEM"
   },
   "outputs": [],
   "source": [
    "predictions = model.predict(x_val)"
   ]
  },
  {
   "cell_type": "code",
   "execution_count": 33,
   "metadata": {
    "colab": {
     "base_uri": "https://localhost:8080/",
     "height": 204
    },
    "id": "MoUhg7eOXVZa",
    "outputId": "f422c4ab-c22a-4b2c-a2cc-22e396c8a193"
   },
   "outputs": [
    {
     "data": {
      "text/html": [
       "<div>\n",
       "<style scoped>\n",
       "    .dataframe tbody tr th:only-of-type {\n",
       "        vertical-align: middle;\n",
       "    }\n",
       "\n",
       "    .dataframe tbody tr th {\n",
       "        vertical-align: top;\n",
       "    }\n",
       "\n",
       "    .dataframe thead th {\n",
       "        text-align: right;\n",
       "    }\n",
       "</style>\n",
       "<table border=\"1\" class=\"dataframe\">\n",
       "  <thead>\n",
       "    <tr style=\"text-align: right;\">\n",
       "      <th></th>\n",
       "      <th>truth</th>\n",
       "      <th>model</th>\n",
       "    </tr>\n",
       "  </thead>\n",
       "  <tbody>\n",
       "    <tr>\n",
       "      <th>0</th>\n",
       "      <td>51</td>\n",
       "      <td>42.019676</td>\n",
       "    </tr>\n",
       "    <tr>\n",
       "      <th>1</th>\n",
       "      <td>50</td>\n",
       "      <td>40.582741</td>\n",
       "    </tr>\n",
       "    <tr>\n",
       "      <th>2</th>\n",
       "      <td>50</td>\n",
       "      <td>41.094654</td>\n",
       "    </tr>\n",
       "    <tr>\n",
       "      <th>3</th>\n",
       "      <td>50</td>\n",
       "      <td>40.904152</td>\n",
       "    </tr>\n",
       "    <tr>\n",
       "      <th>4</th>\n",
       "      <td>50</td>\n",
       "      <td>41.231098</td>\n",
       "    </tr>\n",
       "  </tbody>\n",
       "</table>\n",
       "</div>"
      ],
      "text/plain": [
       "   truth      model\n",
       "0     51  42.019676\n",
       "1     50  40.582741\n",
       "2     50  41.094654\n",
       "3     50  40.904152\n",
       "4     50  41.231098"
      ]
     },
     "execution_count": 33,
     "metadata": {
      "tags": []
     },
     "output_type": "execute_result"
    }
   ],
   "source": [
    "preds = pd.DataFrame(y_val.reshape(-1,1), columns=['truth'])\n",
    "preds['model'] = predictions\n",
    "preds.head()"
   ]
  },
  {
   "cell_type": "code",
   "execution_count": 34,
   "metadata": {
    "id": "LSy0mPmFXXMt"
   },
   "outputs": [],
   "source": [
    "preds['diff'] = abs(preds['truth']-preds['model'])"
   ]
  },
  {
   "cell_type": "code",
   "execution_count": 35,
   "metadata": {
    "id": "18unOrytXXGV"
   },
   "outputs": [],
   "source": [
    "val['prediction'] = preds.model.values.astype(int)\n",
    "val = val.drop(columns=['file_name'])\n",
    "# val.to_csv('prediction_val_Radiant.csv')"
   ]
  },
  {
   "cell_type": "code",
   "execution_count": 36,
   "metadata": {
    "colab": {
     "base_uri": "https://localhost:8080/"
    },
    "id": "pQTaM4poXXAG",
    "outputId": "00168360-4169-4197-b17d-249c02cc2179"
   },
   "outputs": [
    {
     "data": {
      "text/plain": [
       "10.6"
      ]
     },
     "execution_count": 36,
     "metadata": {
      "tags": []
     },
     "output_type": "execute_result"
    }
   ],
   "source": [
    "round(mean_squared_error(preds.model, preds.truth, squared=False),2)"
   ]
  },
  {
   "cell_type": "code",
   "execution_count": 37,
   "metadata": {
    "colab": {
     "base_uri": "https://localhost:8080/"
    },
    "id": "YYERXhSDXW5c",
    "outputId": "e51aca75-7016-4e25-cd13-40e092a7a747"
   },
   "outputs": [
    {
     "data": {
      "text/plain": [
       "7.91"
      ]
     },
     "execution_count": 37,
     "metadata": {
      "tags": []
     },
     "output_type": "execute_result"
    }
   ],
   "source": [
    "round(mean_absolute_error(preds.truth,preds.model),2)"
   ]
  },
  {
   "cell_type": "code",
   "execution_count": 38,
   "metadata": {
    "colab": {
     "base_uri": "https://localhost:8080/",
     "height": 296
    },
    "id": "gSKRAu11XWM3",
    "outputId": "92f6f0e7-9512-4af4-dbdd-647985c2d81a"
   },
   "outputs": [
    {
     "data": {
      "text/plain": [
       "<matplotlib.axes._subplots.AxesSubplot at 0x7f986069b4d0>"
      ]
     },
     "execution_count": 38,
     "metadata": {
      "tags": []
     },
     "output_type": "execute_result"
    },
    {
     "data": {
      "image/png": "[encoded data removed]",
      "text/plain": [
       "<Figure size 432x288 with 1 Axes>"
      ]
     },
     "metadata": {
      "needs_background": "light",
      "tags": []
     },
     "output_type": "display_data"
    }
   ],
   "source": [
    "preds.groupby('truth').mean()['diff'].rolling(window=10).mean().plot()"
   ]
  },
  {
   "cell_type": "markdown",
   "metadata": {
    "id": "KrlIHy0HX4Fq"
   },
   "source": [
    "# 8. Prediction for test period:"
   ]
  },
  {
   "cell_type": "code",
   "execution_count": 39,
   "metadata": {
    "id": "M4_zjmUaX3-n"
   },
   "outputs": [],
   "source": [
    "# we need to delete the training data and release memory to be able to run the model for test period.\n",
    "del x_train_extra"
   ]
  },
  {
   "cell_type": "code",
   "execution_count": 40,
   "metadata": {
    "id": "6RmOGB8nX320"
   },
   "outputs": [],
   "source": [
    "x_test = np.load(f'{directory}/x_test.npy')\n",
    "test_metadata  = pd.read_csv(f'{directory}/test_set_features.csv')"
   ]
  },
  {
   "cell_type": "code",
   "execution_count": 41,
   "metadata": {
    "colab": {
     "base_uri": "https://localhost:8080/"
    },
    "id": "fkSDgwSJX3vT",
    "outputId": "34c186d9-4270-4353-cd05-0071a5914f5e"
   },
   "outputs": [
    {
     "data": {
      "text/plain": [
       "(44377, 1)"
      ]
     },
     "execution_count": 41,
     "metadata": {
      "tags": []
     },
     "output_type": "execute_result"
    }
   ],
   "source": [
    "test_pred = model.predict(x_test)\n",
    "test_pred.shape"
   ]
  },
  {
   "cell_type": "code",
   "execution_count": 42,
   "metadata": {
    "id": "tEwPgGyTX3pA"
   },
   "outputs": [],
   "source": [
    "test_metadata['prediction'] = test_pred[:,0]\n",
    "test_metadata.to_csv('prediction_test_Radiant.csv')"
   ]
  },
  {
   "cell_type": "code",
   "execution_count": 43,
   "metadata": {
    "id": "7KqjnD3hX3iV"
   },
   "outputs": [],
   "source": [
    "test_metadata['wind_speed'] = test_metadata.prediction.apply(lambda x: round(x))"
   ]
  },
  {
   "cell_type": "code",
   "execution_count": 44,
   "metadata": {
    "id": "xTqloU5dX3bj"
   },
   "outputs": [],
   "source": [
    "#saving submission\n",
    "test_metadata[['image_id','wind_speed']].set_index('image_id').to_csv('Submission_Radiant.csv')"
   ]
  },
  {
   "cell_type": "code",
   "execution_count": null,
   "metadata": {
    "id": "jQD8hakdkHeG"
   },
   "outputs": [],
   "source": []
  }
 ],
 "metadata": {
  "accelerator": "GPU",
  "colab": {
   "collapsed_sections": [
    "S2yYKmo_44Vv",
    "kzj675_oSvPq",
    "D9n6EPH8TfeQ"
   ],
   "name": "CNN_Hurricane_RadiantEarth.ipynb",
   "provenance": []
  },
  "kernelspec": {
   "display_name": "Python 3",
   "language": "python",
   "name": "python3"
  },
  "language_info": {
   "codemirror_mode": {
    "name": "ipython",
    "version": 3
   },
   "file_extension": ".py",
   "mimetype": "text/x-python",
   "name": "python",
   "nbconvert_exporter": "python",
   "pygments_lexer": "ipython3",
   "version": "3.8.8"
  }
 },
 "nbformat": 4,
 "nbformat_minor": 4
}
