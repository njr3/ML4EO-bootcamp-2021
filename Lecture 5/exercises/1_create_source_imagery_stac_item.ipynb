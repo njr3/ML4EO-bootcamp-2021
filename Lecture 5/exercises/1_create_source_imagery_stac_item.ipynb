{
 "cells": [
  {
   "cell_type": "markdown",
   "id": "3628ccf7",
   "metadata": {},
   "source": [
    "# Create Source Imagery STAC Item\n",
    "\n",
    "<a style=\"display: inline-block;\" href=\"https://mybinder.org/v2/gh/RadiantMLHub/ml4eo-bootcamp-2021/main?filepath=Lecture%205%2Fexercises%2F1_create_source_imagery_stac_item.ipynb\"><img src=\"https://mybinder.org/badge_logo.svg\" alt=\"Launch in Binder\"/></a>\n",
    "\n",
    "In this exercise, we will:\n",
    "\n",
    "* Discuss STAC Items and what they represent\n",
    "* Discuss STAC Assets and how they relate to Items\n",
    "* Use the `pystac` package to create a STAC Item to represent our source imagery tile"
   ]
  },
  {
   "cell_type": "markdown",
   "id": "f9a31528",
   "metadata": {},
   "source": [
    "## STAC Items\n",
    "\n",
    "A **[STAC Item](https://github.com/radiantearth/stac-spec/tree/master/item-spec)** is the core, atomic unit in STAC. It represents a single spatio-temporal asset for a particular place and time. STAC Items are represented as [GeoJSON Features](https://tools.ietf.org/html/rfc7946#section-3.2) with additional [foreign members](https://tools.ietf.org/html/rfc7946#section-6) (properties) relevant to the STAC spec.\n",
    "\n",
    "Among other things, all STAC objects have the following properties:\n",
    "\n",
    "* `assets`: List of objects that describe actual files that can be downloaded (including links)\n",
    "* `datetime`: A date-time associated with the resource\n",
    "* `geometry`: Typical GeoJSON Geometry that describes the location of the resource\n",
    "* `links`: List of links to other relevant STAC entities or external resources\n",
    "\n",
    "The following is a simple example of a STAC Item (taken from the official STAC examples [here](https://github.com/radiantearth/stac-spec/blob/master/examples/simple-item.json)):\n",
    "\n",
    "```json\n",
    "{\n",
    "  \"stac_version\": \"1.0.0-rc.2\",\n",
    "  \"stac_extensions\": [],\n",
    "  \"type\": \"Feature\",\n",
    "  \"id\": \"20201211_223832_CS2\",\n",
    "  \"bbox\": [172.91173669923782, 1.3438851951615003, 172.95469614953714, 1.3690476620161975],\n",
    "  \"geometry\": {\n",
    "    \"type\": \"Polygon\",\n",
    "    \"coordinates\": [\n",
    "      [\n",
    "        [172.91173669923782, 1.3438851951615003],\n",
    "        [172.95469614953714, 1.3438851951615003],\n",
    "        [172.95469614953714, 1.3690476620161975],\n",
    "        [172.91173669923782, 1.3690476620161975],\n",
    "        [172.91173669923782, 1.3438851951615003]\n",
    "      ]\n",
    "    ]\n",
    "  },\n",
    "  \"properties\": {\n",
    "    \"datetime\": \"2020-12-11T22:38:32.125000Z\"\n",
    "  },\n",
    "  \"collection\": \"simple-collection\",\n",
    "  \"links\": [\n",
    "    {\n",
    "      \"rel\": \"collection\",\n",
    "      \"href\": \"./collection.json\",\n",
    "      \"type\": \"application/json\",\n",
    "      \"title\": \"Simple Example Collection\"\n",
    "    },\n",
    "    {\n",
    "      \"rel\": \"root\",\n",
    "      \"href\": \"./collection.json\",\n",
    "      \"type\": \"application/json\"\n",
    "    }\n",
    "  ],\n",
    "  \"assets\": {\n",
    "    \"visual\": {\n",
    "      \"href\": \"https://storage.googleapis.com/open-cogs/stac-examples/20201211_223832_CS2.tif\",\n",
    "      \"type\": \"image/tiff; application=geotiff; profile=cloud-optimized\",\n",
    "      \"title\": \"3-Band Visual\",\n",
    "      \"roles\": [\n",
    "        \"visual\"\n",
    "      ]\n",
    "    },\n",
    "    \"thumbnail\": {\n",
    "      \"href\": \"https://storage.googleapis.com/open-cogs/stac-examples/20201211_223832_CS2.jpg\",\n",
    "      \"title\": \"Thumbnail\",\n",
    "      \"type\": \"image/jpeg\",\n",
    "      \"roles\": [\n",
    "        \"thumbnail\"\n",
    "      ]\n",
    "    }\n",
    "  }\n",
    "}\n",
    "```\n"
   ]
  },
  {
   "cell_type": "markdown",
   "id": "96444f3c",
   "metadata": {},
   "source": [
    "## Source Imagery Item\n",
    "\n",
    "### Create Core Item\n",
    "\n",
    "To get started, we will create a [`pystac.Item`](https://pystac.readthedocs.io/en/latest/api.html#item) for our source imagery with the just the core properties. Later, we will add some properties related to some of the extensions relevant to our data. Taking a look at the `pystac.Item` docs, we can see that we'll at least need to specify the `id`, `geometry`, `bbox`, and `datetime` arguments, as well as a `properties` dictionary."
   ]
  },
  {
   "cell_type": "markdown",
   "id": "9fbe032e",
   "metadata": {},
   "source": [
    "First, let's import the libraries that we'll be using."
   ]
  },
  {
   "cell_type": "code",
   "execution_count": 1,
   "id": "ab8d83ab",
   "metadata": {},
   "outputs": [],
   "source": [
    "from datetime import datetime\n",
    "import json\n",
    "from pathlib import Path\n",
    "\n",
    "import rasterio\n",
    "import rasterio.warp\n",
    "import rasterio.features\n",
    "import pystac"
   ]
  },
  {
   "cell_type": "markdown",
   "id": "92b29cdd",
   "metadata": {},
   "source": [
    "Next, we get the `bbox` argument by reading the image tile using [`rasterio`](https://rasterio.readthedocs.io/en/latest/) and getting the image `bounds`. We can then use these `bounds` to construct a GeoJSON Geometry. This geometry will be in the native geometry of the image, but the STAC spec requires a geometry in EPSG:4326. We can use the `rasterio.warp` module to transform the geometry into the correct CRS."
   ]
  },
  {
   "cell_type": "code",
   "execution_count": 2,
   "id": "0edf401b",
   "metadata": {},
   "outputs": [
    {
     "name": "stdout",
     "output_type": "stream",
     "text": [
      "Geometry (EPSG:4326):\n",
      "{\n",
      "    \"type\": \"Polygon\",\n",
      "    \"coordinates\": [\n",
      "        [\n",
      "            [\n",
      "                19.282309157846285,\n",
      "                -33.65646563177132\n",
      "            ],\n",
      "            [\n",
      "                19.28079050631379,\n",
      "                -33.732735055742886\n",
      "            ],\n",
      "            [\n",
      "                19.353625203525958,\n",
      "                -33.733727878895834\n",
      "            ],\n",
      "            [\n",
      "                19.35507958936285,\n",
      "                -33.65745561206109\n",
      "            ],\n",
      "            [\n",
      "                19.282309157846285,\n",
      "                -33.65646563177132\n",
      "            ]\n",
      "        ]\n",
      "    ]\n",
      "}\n",
      "\n",
      "Bounds (EPSG:4326):\n",
      "(19.28079050631379, -33.733727878895834, 19.35507958936285, -33.65646563177132)\n"
     ]
    }
   ],
   "source": [
    "source_img = Path('../data/tiles/S2A_34HCH_20171008_0_L2A_TCI.tif')\n",
    "\n",
    "# Read the source image and save the bounds and CRS\n",
    "with rasterio.open(source_img) as src:\n",
    "    bounds_native = src.bounds\n",
    "    native_crs = src.crs\n",
    "  \n",
    "# Create a GeoJSON Geometry from the image bounds\n",
    "geom_native = {\n",
    "    'type': 'Polygon',\n",
    "    'coordinates': [\n",
    "        [\n",
    "            [bounds_native.left, bounds_native.top],\n",
    "            [bounds_native.left, bounds_native.bottom],\n",
    "            [bounds_native.right, bounds_native.bottom],\n",
    "            [bounds_native.right, bounds_native.top],\n",
    "            [bounds_native.left, bounds_native.top]\n",
    "        ]\n",
    "    ]\n",
    "}\n",
    "\n",
    "# Transform the GeoJSON Geometry into EPSG:4326\n",
    "geom_4326 = rasterio.warp.transform_geom(\n",
    "    native_crs,\n",
    "    'EPSG:4326',\n",
    "    geom_native,\n",
    ")\n",
    "\n",
    "# Get the bounds in EPSG:4326\n",
    "bounds_4326 = rasterio.features.bounds(geom_4326)\n",
    "\n",
    "print('Geometry (EPSG:4326):')\n",
    "print(json.dumps(geom_4326, indent=4))\n",
    "print('')\n",
    "print('Bounds (EPSG:4326):')\n",
    "print(bounds_4326)"
   ]
  },
  {
   "cell_type": "markdown",
   "id": "dc98ceb1",
   "metadata": {},
   "source": [
    "We will parse the file name to get the `datetime` property. We will also create a unique `id` based on the file name."
   ]
  },
  {
   "cell_type": "code",
   "execution_count": 3,
   "id": "b3fd4ade",
   "metadata": {},
   "outputs": [],
   "source": [
    "# The datetime is the 3rd part of the filename split on the underscore (\"_\") character\n",
    "datetime_str = source_img.name.split('_', 3)[2]\n",
    "\n",
    "# Create a naive datetime object by parsing this string\n",
    "dt = datetime.strptime(datetime_str, '%Y%m%d')\n",
    "\n",
    "# The Item ID will be the file name with a \"_source\" suffix\n",
    "item_id = source_img.name.split('.')[0] + \"_source\""
   ]
  },
  {
   "cell_type": "markdown",
   "id": "7dd16f32",
   "metadata": {},
   "source": [
    "Finally, we put this all together into a PySTAC Item."
   ]
  },
  {
   "cell_type": "code",
   "execution_count": 4,
   "id": "eeaaefbb",
   "metadata": {},
   "outputs": [
    {
     "name": "stdout",
     "output_type": "stream",
     "text": [
      "{\n",
      "    \"type\": \"Feature\",\n",
      "    \"stac_version\": \"1.0.0-beta.2\",\n",
      "    \"id\": \"S2A_34HCH_20171008_0_L2A_TCI_source\",\n",
      "    \"properties\": {\n",
      "        \"platform\": \"Sentinel-2\",\n",
      "        \"constellation\": \"Sentinel-2\",\n",
      "        \"datetime\": \"2017-10-08T00:00:00Z\"\n",
      "    },\n",
      "    \"geometry\": {\n",
      "        \"type\": \"Polygon\",\n",
      "        \"coordinates\": [\n",
      "            [\n",
      "                [\n",
      "                    19.282309157846285,\n",
      "                    -33.65646563177132\n",
      "                ],\n",
      "                [\n",
      "                    19.28079050631379,\n",
      "                    -33.732735055742886\n",
      "                ],\n",
      "                [\n",
      "                    19.353625203525958,\n",
      "                    -33.733727878895834\n",
      "                ],\n",
      "                [\n",
      "                    19.35507958936285,\n",
      "                    -33.65745561206109\n",
      "                ],\n",
      "                [\n",
      "                    19.282309157846285,\n",
      "                    -33.65646563177132\n",
      "                ]\n",
      "            ]\n",
      "        ]\n",
      "    },\n",
      "    \"links\": [],\n",
      "    \"assets\": {},\n",
      "    \"bbox\": [\n",
      "        19.28079050631379,\n",
      "        -33.733727878895834,\n",
      "        19.35507958936285,\n",
      "        -33.65646563177132\n",
      "    ]\n",
      "}\n"
     ]
    }
   ],
   "source": [
    "item = pystac.Item(\n",
    "    id=item_id,\n",
    "    geometry=geom_4326,\n",
    "    bbox=bounds_4326,\n",
    "    datetime=dt,\n",
    "    properties={\n",
    "        'platform': 'Sentinel-2',\n",
    "        'constellation': 'Sentinel-2'\n",
    "    }\n",
    ")\n",
    "print(json.dumps(item.to_dict(), indent=4))"
   ]
  },
  {
   "cell_type": "markdown",
   "id": "74e63dd5",
   "metadata": {},
   "source": [
    "### Source Imagery Asset\n",
    "\n",
    "A **STAC Asset** represents a file associated with an Item (or Collection) that can be downloaded. Some common examples of assets include:\n",
    "\n",
    "* Multi-band data images\n",
    "* Low-resolution thumbnail images\n",
    "* Sidecar metadata files\n",
    "* Documentation files\n",
    "\n",
    "Our source imagery item has only one asset: the `S2A_34HCH_20171008_0_L2A_TCI.tif` image tile. We will create a `pystac.Asset` for this tile and add it to the `pystac.Item` we just created."
   ]
  },
  {
   "cell_type": "markdown",
   "id": "1eccd428",
   "metadata": {},
   "source": [
    "The [`pystac.Asset` docs](https://pystac.readthedocs.io/en/latest/api.html#asset) tell us that we only need to define the `href` argument to create a new Asset. The `href` property represents the path to the asset, which can either be an absolute URL or a relative URL/path. Since we are only going to be working with our STAC Items locally, we will use a relative path. This path should be *relative to the STAC Item that contains the Asset* and not necessarily the current working directory. \n",
    "\n",
    "We will use an absolute path to our asset for now, but will turn this into a relative path in a later exercise when we create our Collection. The relative path will be more portable if we want to zip the entire collections and move it to a new location.\n",
    "\n",
    "We will also define the `roles` and `type` arguments to make it more clear what this asset represents. The STAC Best Practices documentation has a nice section on [\"Common Media Types in STAC\"](https://github.com/radiantearth/stac-spec/blob/master/best-practices.md#common-media-types-in-stac) that we can use to select the right `type` argument. Likewise, we can use the [\"List of Asset Roles\"](https://github.com/radiantearth/stac-spec/blob/master/best-practices.md#list-of-asset-roles) section of the STAC Best Practices docs to select the right `roles`. In our case, we will use the `visual` role and the `image/tiff; application=geotiff` media type."
   ]
  },
  {
   "cell_type": "code",
   "execution_count": 5,
   "id": "0a8fc89b",
   "metadata": {},
   "outputs": [],
   "source": [
    "asset = pystac.Asset(\n",
    "    href=str(source_img.resolve()),\n",
    "    media_type='image/tiff; application=geotiff',\n",
    "    roles=['visual']\n",
    ")"
   ]
  },
  {
   "cell_type": "markdown",
   "id": "69da7b39",
   "metadata": {},
   "source": [
    "Finally, we need to associate this Asset with the Item we created above. Since the `assets` property of a STAC Item is an object, we need to provide a key that should be used for this asset. The choice of key is up to the user, so we will just use `\"visual\"` to match our role."
   ]
  },
  {
   "cell_type": "code",
   "execution_count": 6,
   "id": "df9d2637",
   "metadata": {},
   "outputs": [
    {
     "name": "stdout",
     "output_type": "stream",
     "text": [
      "{\n",
      "    \"type\": \"Feature\",\n",
      "    \"stac_version\": \"1.0.0-beta.2\",\n",
      "    \"id\": \"S2A_34HCH_20171008_0_L2A_TCI_source\",\n",
      "    \"properties\": {\n",
      "        \"platform\": \"Sentinel-2\",\n",
      "        \"constellation\": \"Sentinel-2\",\n",
      "        \"datetime\": \"2017-10-08T00:00:00Z\"\n",
      "    },\n",
      "    \"geometry\": {\n",
      "        \"type\": \"Polygon\",\n",
      "        \"coordinates\": [\n",
      "            [\n",
      "                [\n",
      "                    19.282309157846285,\n",
      "                    -33.65646563177132\n",
      "                ],\n",
      "                [\n",
      "                    19.28079050631379,\n",
      "                    -33.732735055742886\n",
      "                ],\n",
      "                [\n",
      "                    19.353625203525958,\n",
      "                    -33.733727878895834\n",
      "                ],\n",
      "                [\n",
      "                    19.35507958936285,\n",
      "                    -33.65745561206109\n",
      "                ],\n",
      "                [\n",
      "                    19.282309157846285,\n",
      "                    -33.65646563177132\n",
      "                ]\n",
      "            ]\n",
      "        ]\n",
      "    },\n",
      "    \"links\": [],\n",
      "    \"assets\": {\n",
      "        \"visual\": {\n",
      "            \"href\": \"/Users/jduckworth/Code/ml-hub/ml4eo-bootcamp-2021/Lecture 5/data/tiles/S2A_34HCH_20171008_0_L2A_TCI.tif\",\n",
      "            \"type\": \"image/tiff; application=geotiff\",\n",
      "            \"roles\": [\n",
      "                \"visual\"\n",
      "            ]\n",
      "        }\n",
      "    },\n",
      "    \"bbox\": [\n",
      "        19.28079050631379,\n",
      "        -33.733727878895834,\n",
      "        19.35507958936285,\n",
      "        -33.65646563177132\n",
      "    ]\n",
      "}\n"
     ]
    }
   ],
   "source": [
    "item.add_asset(\"visual\", asset)\n",
    "print(json.dumps(item.to_dict(), indent=4))"
   ]
  },
  {
   "cell_type": "markdown",
   "id": "1e6b64f0",
   "metadata": {},
   "source": [
    "We can see that our Item now has the Asset that we just added."
   ]
  },
  {
   "cell_type": "markdown",
   "id": "62ab507c",
   "metadata": {},
   "source": [
    "### Save Item\n",
    "\n",
    "Finally, we'll save our Item to a JSON file. We'll save this Item into a `tmp` folder because we will be making some changes to the links when we create a Collection in the 3rd exercise."
   ]
  },
  {
   "cell_type": "code",
   "execution_count": 7,
   "id": "5b3aebbe",
   "metadata": {},
   "outputs": [],
   "source": [
    "tmp_dir = source_img.parent.parent.parent / 'tmp'\n",
    "tmp_dir.mkdir(exist_ok=True)\n",
    "\n",
    "item_path = tmp_dir / f'{item.id}.json'\n",
    "item.save_object(dest_href=item_path)"
   ]
  },
  {
   "cell_type": "code",
   "execution_count": null,
   "id": "4154d991",
   "metadata": {},
   "outputs": [],
   "source": []
  }
 ],
 "metadata": {
  "kernelspec": {
   "display_name": "Python 3",
   "language": "python",
   "name": "python3"
  },
  "language_info": {
   "codemirror_mode": {
    "name": "ipython",
    "version": 3
   },
   "file_extension": ".py",
   "mimetype": "text/x-python",
   "name": "python",
   "nbconvert_exporter": "python",
   "pygments_lexer": "ipython3",
   "version": "3.8.6"
  }
 },
 "nbformat": 4,
 "nbformat_minor": 5
}
