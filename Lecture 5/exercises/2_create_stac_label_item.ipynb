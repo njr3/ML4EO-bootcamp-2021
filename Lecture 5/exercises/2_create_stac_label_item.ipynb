{
 "cells": [
  {
   "cell_type": "markdown",
   "id": "16c15887",
   "metadata": {},
   "source": [
    "# Create Label STAC Item\n",
    "\n",
    "<a style=\"display: inline-block;\" href=\"https://mybinder.org/v2/gh/RadiantMLHub/ml4eo-bootcamp-2021/main?filepath=Lecture%205%2Fexercises%2F2_create_stac_label_item.ipynb\"><img src=\"https://mybinder.org/badge_logo.svg\" alt=\"Launch in Binder\"/></a>\n",
    "\n",
    "In the [first exercise](./1_create_source_imagery_stac_item.ipynb) we learned about STAC Items and Assets, and we created a STAC Item to represent our source image tile. In this exercise, we will:\n",
    "\n",
    "* Describe how STAC Extensions enhance STAC Items\n",
    "* Create a STAC Item to represent our label assets\n",
    "* Link our label Item to the corresponding source imagery Item we created in the first exercise."
   ]
  },
  {
   "cell_type": "markdown",
   "id": "0c08481d",
   "metadata": {},
   "source": [
    "## STAC Extensions\n",
    "\n",
    "The core STAC specification intentionally defines a minimal set of properties that should apply to all EO assets, but additional fields can be introduced through [STAC Extensions](https://stac-extensions.github.io/). STAC Extensions may apply to any combination of Catalogs, Collections, and/or Items and are often used to add fields that better describe the data. Data providers are encouraged to combine multiple Extensions to properly describe their data. \n",
    "\n",
    "Anyone can create a STAC Extension and host it either in their own GitHub organization or in the official [stac-extensions](https://github.com/stac-extensions/) organization. Extensions may progress through different levels of maturity from Proposal to Pilot to Stable.\n",
    "\n",
    "For a full list of STAC Extensions, including their maturity level, see the official [\"List of STAC Extensions\"](https://stac-extensions.github.io/#list-of-stac-extensions)."
   ]
  },
  {
   "cell_type": "markdown",
   "id": "ff0b0494",
   "metadata": {},
   "source": [
    "### Label Extension\n",
    "\n",
    "The [STAC Label Extension](https://github.com/stac-extensions/label) is used within the STAC community to describe training data for EO machine learning models. Despite officially being in the \"Proposal\" stage, this extension has JSON schemas and examples defined and is being used in at least a few production systems (including the Radiant MLHub API). \n",
    "\n",
    "In particular, the Label Extension allows data providers to describe the type of task that the labels apply to (e.g. regression, classification, detection, segmentation), how the labels were generated, the classes present in the labeled data. It also allows the provider to link labeled data to corresponding source imagery using STAC links. \n",
    "\n",
    "**Input and feedback on this extension from ML practitioners and data scientist is welcomed and encouraged.** You can contribute by creating and commenting on issues or contributing pull requests in the [Label Extension repo](https://github.com/stac-extensions/label) or by joining the conversation on [Gitter](https://gitter.im/SpatioTemporal-Asset-Catalog/Lobby)."
   ]
  },
  {
   "cell_type": "markdown",
   "id": "f4c55b14",
   "metadata": {},
   "source": [
    "## Create Label Item\n",
    "\n",
    "We will start by creating a STAC Item to represent our labeled data, much like in the first exercise. This item (and its assets) will include additional properties from the Label Extension. Then, we will add a link that points to the source imagery Item we created in the first exercise.\n",
    "\n",
    "First, we import the libraries we will be using."
   ]
  },
  {
   "cell_type": "code",
   "execution_count": 1,
   "id": "45733211",
   "metadata": {},
   "outputs": [],
   "source": [
    "import json\n",
    "from pathlib import Path\n",
    "\n",
    "import rasterio\n",
    "import rasterio.warp\n",
    "import rasterio.features\n",
    "import pystac\n",
    "\n",
    "# This is the tmp_dir we created in the first exercise\n",
    "tmp_dir = Path.cwd().parent / 'tmp'"
   ]
  },
  {
   "cell_type": "markdown",
   "id": "5dc4ed1c",
   "metadata": {},
   "source": [
    "Next, we create assets for our label raster and the GeoJSON file that describes the label values."
   ]
  },
  {
   "cell_type": "code",
   "execution_count": 2,
   "id": "6fffa512",
   "metadata": {},
   "outputs": [],
   "source": [
    "label_asset = pystac.Asset(\n",
    "    href=str(Path('./labels.tif').resolve()),\n",
    "    media_type='image/tiff; application=geotiff',\n",
    "    roles=['labels', 'labels-raster']\n",
    ")\n",
    "\n",
    "classes_asset = pystac.Asset(\n",
    "    href=str(Path('./labels.json').resolve()),\n",
    "    media_type='application/json',\n",
    "    roles=['labels', 'labels-classes']\n",
    ")"
   ]
  },
  {
   "cell_type": "markdown",
   "id": "3b871e47",
   "metadata": {},
   "source": [
    "Finally, we'll create the STAC Item and add the Assets to it. We can get the geometry information in the same way as the first exercise, and we will reuse the ID and datetime information from the first exercise to fill in some of the fields for this Item. We will also use the [Label Extension Item Properties](https://github.com/stac-extensions/label#item-properties) documentation to determine what property values we should include (since our labels are rasters, many of these will be `null`)."
   ]
  },
  {
   "cell_type": "code",
   "execution_count": 3,
   "id": "44417e2d",
   "metadata": {},
   "outputs": [
    {
     "name": "stdout",
     "output_type": "stream",
     "text": [
      "{\n",
      "    \"type\": \"Feature\",\n",
      "    \"stac_version\": \"1.0.0-beta.2\",\n",
      "    \"id\": \"S2A_34HCH_20171008_0_L2A_TCI_labels\",\n",
      "    \"properties\": {\n",
      "        \"label:type\": \"raster\",\n",
      "        \"label:properties\": null,\n",
      "        \"label:description\": \"Crop type labels created from Sentinel-2 imagery.\",\n",
      "        \"label:classes\": [\n",
      "            {\n",
      "                \"name\": null,\n",
      "                \"classes\": [\n",
      "                    0,\n",
      "                    1,\n",
      "                    2,\n",
      "                    3,\n",
      "                    4,\n",
      "                    5,\n",
      "                    6\n",
      "                ]\n",
      "            }\n",
      "        ],\n",
      "        \"datetime\": \"2017-10-08T00:00:00Z\"\n",
      "    },\n",
      "    \"geometry\": {\n",
      "        \"type\": \"Polygon\",\n",
      "        \"coordinates\": [\n",
      "            [\n",
      "                [\n",
      "                    19.282368894925145,\n",
      "                    -33.65648731266274\n",
      "                ],\n",
      "                [\n",
      "                    19.280850294948134,\n",
      "                    -33.73275673876073\n",
      "                ],\n",
      "                [\n",
      "                    19.353685012706514,\n",
      "                    -33.73374952720193\n",
      "                ],\n",
      "                [\n",
      "                    19.355139346911336,\n",
      "                    -33.65747725834099\n",
      "                ],\n",
      "                [\n",
      "                    19.282368894925145,\n",
      "                    -33.65648731266274\n",
      "                ]\n",
      "            ]\n",
      "        ]\n",
      "    },\n",
      "    \"links\": [],\n",
      "    \"assets\": {\n",
      "        \"labels\": {\n",
      "            \"href\": \"/Users/jduckworth/Code/ml-hub/ml4eo-bootcamp-2021/Lecture 5/exercises/labels.tif\",\n",
      "            \"type\": \"image/tiff; application=geotiff\",\n",
      "            \"roles\": [\n",
      "                \"labels\",\n",
      "                \"labels-raster\"\n",
      "            ]\n",
      "        },\n",
      "        \"classes\": {\n",
      "            \"href\": \"/Users/jduckworth/Code/ml-hub/ml4eo-bootcamp-2021/Lecture 5/exercises/labels.json\",\n",
      "            \"type\": \"application/json\",\n",
      "            \"roles\": [\n",
      "                \"labels\",\n",
      "                \"labels-classes\"\n",
      "            ]\n",
      "        }\n",
      "    },\n",
      "    \"bbox\": [\n",
      "        19.280850294948134,\n",
      "        -33.73374952720193,\n",
      "        19.355139346911336,\n",
      "        -33.65648731266274\n",
      "    ],\n",
      "    \"stac_extensions\": [\n",
      "        \"label\"\n",
      "    ]\n",
      "}\n"
     ]
    }
   ],
   "source": [
    "# Open the source imagery item so we can use some of the information\n",
    "source_img_path = tmp_dir / 'S2A_34HCH_20171008_0_L2A_TCI_source.json'\n",
    "source_img_item = pystac.Item.from_file(str(source_img_path))\n",
    "\n",
    "# Labels Item ID will be the same as the source imagery Item ID, but with a \"_labels\" suffix\n",
    "labels_id = source_img_item.id.rsplit('_source', 1)[0] + '_labels'\n",
    "\n",
    "labels = '../data/labels.tif'\n",
    "with rasterio.open(labels) as src:\n",
    "    bounds_native = src.bounds\n",
    "    native_crs = src.crs\n",
    "\n",
    "# Construct the native geometry and transform into EPSG:4326\n",
    "geom_native = {\n",
    "    'type': 'Polygon',\n",
    "    'coordinates': [\n",
    "        [\n",
    "            [bounds_native.left, bounds_native.top],\n",
    "            [bounds_native.left, bounds_native.bottom],\n",
    "            [bounds_native.right, bounds_native.bottom],\n",
    "            [bounds_native.right, bounds_native.top],\n",
    "            [bounds_native.left, bounds_native.top]\n",
    "        ]\n",
    "    ]\n",
    "}\n",
    "\n",
    "geom_4326 = rasterio.warp.transform_geom(\n",
    "    native_crs,\n",
    "    'EPSG:4326',\n",
    "    geom_native,\n",
    ")\n",
    "\n",
    "# Get the bounds in EPSG:4326\n",
    "bounds_4326 = rasterio.features.bounds(geom_4326)\n",
    "\n",
    "# Create the Item\n",
    "label_item = pystac.Item(\n",
    "    id=labels_id,\n",
    "    geometry=geom_4326,\n",
    "    bbox=bounds_4326,\n",
    "    datetime=source_img_item.datetime,\n",
    "    stac_extensions=['label'],\n",
    "    properties={\n",
    "        'label:type': 'raster',\n",
    "        'label:properties': None,\n",
    "        'label:description': 'Crop type labels created from Sentinel-2 imagery.',\n",
    "        'label:classes': [\n",
    "            {'name': None, 'classes': [0, 1, 2, 3, 4, 5, 6]}\n",
    "        ]\n",
    "    }\n",
    ")\n",
    "\n",
    "# Add assets\n",
    "label_item.add_asset(\"labels\", label_asset)\n",
    "label_item.add_asset(\"classes\", classes_asset)\n",
    "\n",
    "print(json.dumps(label_item.to_dict(), indent=4))"
   ]
  },
  {
   "cell_type": "markdown",
   "id": "b3ed466a",
   "metadata": {},
   "source": [
    "### Link to Source Imagery\n",
    "\n",
    "Next, we need to link our labels to the source imagery Item. We do this by adding a link with a `\"rel\"` type of `\"source\"`."
   ]
  },
  {
   "cell_type": "code",
   "execution_count": 4,
   "id": "ce08c4cc",
   "metadata": {},
   "outputs": [
    {
     "name": "stdout",
     "output_type": "stream",
     "text": [
      "[\n",
      "    {\n",
      "        \"rel\": \"source\",\n",
      "        \"href\": \"/Users/jduckworth/Code/ml-hub/ml4eo-bootcamp-2021/Lecture 5/tmp/S2A_34HCH_20171008_0_L2A_TCI_source.json\",\n",
      "        \"type\": \"application/json\",\n",
      "        \"title\": \"Source Imagery\"\n",
      "    }\n",
      "]\n"
     ]
    }
   ],
   "source": [
    "source_link = pystac.Link(\n",
    "    rel=\"source\",\n",
    "    target=source_img_item,\n",
    "    media_type='application/json',\n",
    "    title=\"Source Imagery\"\n",
    ")\n",
    "label_item.add_link(source_link)\n",
    "\n",
    "print(json.dumps(label_item.to_dict()['links'], indent=4))"
   ]
  },
  {
   "cell_type": "markdown",
   "id": "3aead711",
   "metadata": {},
   "source": [
    "Notice that PySTAC has used an absolute path in our link based on the location of the source imagery Item. This is fine for now, we will turn this into a relative path in the next exercise so that the items are more portable."
   ]
  },
  {
   "cell_type": "markdown",
   "id": "3b08ca0d",
   "metadata": {},
   "source": [
    "### Save Item\n",
    "\n",
    "Finally, we save the labels Item to the same temporary directory as our source imagery Item."
   ]
  },
  {
   "cell_type": "code",
   "execution_count": 5,
   "id": "79e19fa0",
   "metadata": {},
   "outputs": [],
   "source": [
    "label_item_path = tmp_dir / f'{label_item.id}.json'\n",
    "label_item.save_object(dest_href=label_item_path)"
   ]
  },
  {
   "cell_type": "code",
   "execution_count": null,
   "id": "5e0634c0",
   "metadata": {},
   "outputs": [],
   "source": []
  }
 ],
 "metadata": {
  "kernelspec": {
   "display_name": "Python 3",
   "language": "python",
   "name": "python3"
  },
  "language_info": {
   "codemirror_mode": {
    "name": "ipython",
    "version": 3
   },
   "file_extension": ".py",
   "mimetype": "text/x-python",
   "name": "python",
   "nbconvert_exporter": "python",
   "pygments_lexer": "ipython3",
   "version": "3.8.6"
  }
 },
 "nbformat": 4,
 "nbformat_minor": 5
}
