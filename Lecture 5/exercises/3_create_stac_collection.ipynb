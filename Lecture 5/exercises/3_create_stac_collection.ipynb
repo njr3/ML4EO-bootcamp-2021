{
 "cells": [
  {
   "cell_type": "markdown",
   "id": "0979a5e4",
   "metadata": {},
   "source": [
    "# Create a STAC Collection\n",
    "\n",
    "<a style=\"display: inline-block;\" href=\"https://mybinder.org/v2/gh/RadiantMLHub/ml4eo-bootcamp-2021/main?filepath=Lecture%205%2Fexercises%2F3_create_stac_collection.ipynb\"><img src=\"https://mybinder.org/badge_logo.svg\" alt=\"Launch in Binder\"/></a>\n",
    "\n",
    "In the [second exercise](./2_create_stac_label_item.ipynb) we learned about STAC Extensions, and we created a STAC Item to represent our label assets. In this exercise, we will:\n",
    "\n",
    "* Describe how Items can be grouped together into Collections\n",
    "* Create a Collection to hold all of the Items we have created so far"
   ]
  },
  {
   "cell_type": "markdown",
   "id": "15eefc2b",
   "metadata": {},
   "source": [
    "## STAC Collections\n",
    "\n",
    "A [**STAC Collection**](https://github.com/radiantearth/stac-spec/tree/master/collection-spec) is used to describe a set of related Items and provide additional metadata about the set of Items as a whole. Items in a Collection generally share the same properties and high-level metadata. As with STAC Items, the core spec defines a minimal set of fields that are applicable to most Collections and allows the user to add extensions or define custom fields to assign additional metadata to the Collection.\n",
    "\n",
    "## STAC Catalogs & STAC API\n",
    "\n",
    "The STAC spec also defines a [**Catalog**](https://github.com/radiantearth/stac-spec/tree/master/catalog-spec) object which is meant to be a top-level object that groups together Collections in a single location. Since we can use either a Catalog or a Collection as our top-level object, we will not be covering the creation of Catalogs in these exercises. However, in the next exercise, we will be working with the Radiant MLHub API, which implements the [STAC API spec](https://github.com/radiantearth/stac-api-spec). The landing page for a STAC API implementation will return a Catalog, which in turn links to the Collections it contains. We will cover this in more detail in a future exercise."
   ]
  },
  {
   "cell_type": "markdown",
   "id": "8889983f",
   "metadata": {},
   "source": [
    "## Create a Collection\n",
    "\n",
    "We will use the [`pystac.Collection`](https://pystac.readthedocs.io/en/latest/api.html#collection) class to create a new Collection and add the Items we created in the previous two exercises.\n",
    "\n",
    "The [\"Use of links\"](https://github.com/radiantearth/stac-spec/blob/master/best-practices.md#use-of-links) section in the STAC Best Practices documentation gives us some guidance on different ways of handling links in our Catalogs and Collections. Our first decision is whether we are going to create a \"published\" catalog or a \"self-contained\" catalog. Since we will just be working with our files locally and are not planning on publishing this Collection on the web, we will go with a \"self-contained\" Collection. Within the \"self-contained\" catalogs, we can choose to create a metadata-only catalog or to include our assets. We will have our assets alongside the STAC objects in the same file system, so we will elect to create a [**self-contained catalog with assets**](https://github.com/radiantearth/stac-spec/blob/master/best-practices.md#self-contained-with-assets). In this case, we will use relative links for both `links` and `assets`."
   ]
  },
  {
   "cell_type": "markdown",
   "id": "d95fff2f",
   "metadata": {},
   "source": [
    "First, let's import the libraries we will be working with."
   ]
  },
  {
   "cell_type": "code",
   "execution_count": 1,
   "id": "ba0e7765",
   "metadata": {},
   "outputs": [],
   "source": [
    "import json\n",
    "from pathlib import Path\n",
    "\n",
    "import pystac\n",
    "\n",
    "tmp_dir = Path.cwd().parent / 'tmp'"
   ]
  },
  {
   "cell_type": "markdown",
   "id": "bddcb591",
   "metadata": {},
   "source": [
    "Next, we will create the core Collection. We will provide a value of `None` for the `extent` initially, and then update this extent based on the Item geometries and datetimes after we have added them."
   ]
  },
  {
   "cell_type": "code",
   "execution_count": 2,
   "id": "1749a6e5",
   "metadata": {},
   "outputs": [],
   "source": [
    "# Load the previously created Items\n",
    "source_img_item = pystac.Item.from_file(str(tmp_dir / 'S2A_34HCH_20171008_0_L2A_TCI_source.json'))\n",
    "label_item = pystac.Item.from_file(str(tmp_dir / 'S2A_34HCH_20171008_0_L2A_TCI_labels.json'))"
   ]
  },
  {
   "cell_type": "markdown",
   "id": "3b019898",
   "metadata": {},
   "source": [
    "Finally, we will construct the Collection using these extents and the remaining required arguments. We will save our STAC objects in a `stac` sub-directory in the directory for this lecture."
   ]
  },
  {
   "cell_type": "code",
   "execution_count": 3,
   "id": "25b9449f",
   "metadata": {},
   "outputs": [],
   "source": [
    "stac_path = Path.cwd().parent / 'stac'\n",
    "collection_path = stac_path / 'collection.json'\n",
    "\n",
    "extent = pystac.Extent.from_items([\n",
    "    source_img_item,\n",
    "    label_item\n",
    "])\n",
    "collection = pystac.Collection(\n",
    "    id='example-collection',\n",
    "    description='An example STAC Collections containing labeled crop types.',\n",
    "    extent=None,\n",
    "    href=str(collection_path),\n",
    "    catalog_type=pystac.CatalogType.SELF_CONTAINED\n",
    ")"
   ]
  },
  {
   "cell_type": "code",
   "execution_count": 4,
   "id": "b0502f18",
   "metadata": {},
   "outputs": [],
   "source": [
    "# Add the items\n",
    "collection.add_item(source_img_item)\n",
    "collection.add_item(label_item)\n",
    "\n",
    "# Update the extent based on the item geometries and datetimes\n",
    "collection.update_extent_from_items()"
   ]
  },
  {
   "cell_type": "markdown",
   "id": "43092416",
   "metadata": {},
   "source": [
    "We can use the [`get_items`](https://pystac.readthedocs.io/en/latest/api.html#pystac.Catalog.get_items) method on our Collection to get a generator of all of the items. Let's use this to check out the first Item in the Collection."
   ]
  },
  {
   "cell_type": "code",
   "execution_count": 5,
   "id": "a3ffa334",
   "metadata": {},
   "outputs": [
    {
     "name": "stdout",
     "output_type": "stream",
     "text": [
      "{\n",
      "    \"type\": \"Feature\",\n",
      "    \"stac_version\": \"1.0.0-beta.2\",\n",
      "    \"id\": \"S2A_34HCH_20171008_0_L2A_TCI_source\",\n",
      "    \"properties\": {\n",
      "        \"platform\": \"Sentinel-2\",\n",
      "        \"constellation\": \"Sentinel-2\",\n",
      "        \"datetime\": \"2017-10-08T00:00:00Z\"\n",
      "    },\n",
      "    \"geometry\": {\n",
      "        \"type\": \"Polygon\",\n",
      "        \"coordinates\": [\n",
      "            [\n",
      "                [\n",
      "                    19.282309157846285,\n",
      "                    -33.65646563177132\n",
      "                ],\n",
      "                [\n",
      "                    19.28079050631379,\n",
      "                    -33.732735055742886\n",
      "                ],\n",
      "                [\n",
      "                    19.353625203525958,\n",
      "                    -33.733727878895834\n",
      "                ],\n",
      "                [\n",
      "                    19.35507958936285,\n",
      "                    -33.65745561206109\n",
      "                ],\n",
      "                [\n",
      "                    19.282309157846285,\n",
      "                    -33.65646563177132\n",
      "                ]\n",
      "            ]\n",
      "        ]\n",
      "    },\n",
      "    \"links\": [\n",
      "        {\n",
      "            \"rel\": \"root\",\n",
      "            \"href\": \"../collection.json\",\n",
      "            \"type\": \"application/json\"\n",
      "        },\n",
      "        {\n",
      "            \"rel\": \"self\",\n",
      "            \"href\": \"/Users/jduckworth/Code/ml-hub/ml4eo-bootcamp-2021/Lecture 5/stac/S2A_34HCH_20171008_0_L2A_TCI_source/S2A_34HCH_20171008_0_L2A_TCI_source.json\",\n",
      "            \"type\": \"application/json\"\n",
      "        },\n",
      "        {\n",
      "            \"rel\": \"collection\",\n",
      "            \"href\": \"../collection.json\",\n",
      "            \"type\": \"application/json\"\n",
      "        },\n",
      "        {\n",
      "            \"rel\": \"parent\",\n",
      "            \"href\": \"../collection.json\",\n",
      "            \"type\": \"application/json\"\n",
      "        }\n",
      "    ],\n",
      "    \"assets\": {\n",
      "        \"visual\": {\n",
      "            \"href\": \"/Users/jduckworth/Code/ml-hub/ml4eo-bootcamp-2021/Lecture 5/data/tiles/S2A_34HCH_20171008_0_L2A_TCI.tif\",\n",
      "            \"type\": \"image/tiff; application=geotiff\",\n",
      "            \"roles\": [\n",
      "                \"visual\"\n",
      "            ]\n",
      "        }\n",
      "    },\n",
      "    \"bbox\": [\n",
      "        19.28079050631379,\n",
      "        -33.733727878895834,\n",
      "        19.35507958936285,\n",
      "        -33.65646563177132\n",
      "    ],\n",
      "    \"collection\": \"example-collection\"\n",
      "}\n"
     ]
    }
   ],
   "source": [
    "first_item = next(collection.get_items())\n",
    "print(json.dumps(first_item.to_dict(), indent=4))"
   ]
  },
  {
   "cell_type": "markdown",
   "id": "562be798",
   "metadata": {},
   "source": [
    "We can see that PySTAC has automatically added links back to the parent collection. Very helpful! However, our Asset links and the `\"self\"` links for our Items are still absolute. This means if we zip up our files and send them to someone, the links will be broken. We can fix the asset links using the [`make_all_asset_hrefs_relative`](https://pystac.readthedocs.io/en/latest/api.html#pystac.Catalog.make_all_asset_hrefs_relative) method on our Collection. \n",
    "\n",
    "We can fix the `\"self\"` links in the Items (and save all of our STAC files at the same time) using the [`normalize_and_save`](https://pystac.readthedocs.io/en/latest/api.html#pystac.Catalog.normalize_and_save) method."
   ]
  },
  {
   "cell_type": "code",
   "execution_count": 6,
   "id": "5e350d51",
   "metadata": {},
   "outputs": [],
   "source": [
    "collection.make_all_asset_hrefs_relative()\n",
    "collection.normalize_and_save(str(stac_path))"
   ]
  },
  {
   "cell_type": "code",
   "execution_count": 7,
   "id": "8cab2354",
   "metadata": {},
   "outputs": [
    {
     "name": "stdout",
     "output_type": "stream",
     "text": [
      "../stac/S2A_34HCH_20171008_0_L2A_TCI_labels/S2A_34HCH_20171008_0_L2A_TCI_labels.json\r\n",
      "../stac/collection.json\r\n",
      "../stac/S2A_34HCH_20171008_0_L2A_TCI_source/S2A_34HCH_20171008_0_L2A_TCI_source.json\r\n"
     ]
    }
   ],
   "source": [
    "!find ../stac -type f"
   ]
  },
  {
   "cell_type": "code",
   "execution_count": null,
   "id": "a2d0d9b2",
   "metadata": {},
   "outputs": [],
   "source": []
  }
 ],
 "metadata": {
  "kernelspec": {
   "display_name": "Python 3",
   "language": "python",
   "name": "python3"
  },
  "language_info": {
   "codemirror_mode": {
    "name": "ipython",
    "version": 3
   },
   "file_extension": ".py",
   "mimetype": "text/x-python",
   "name": "python",
   "nbconvert_exporter": "python",
   "pygments_lexer": "ipython3",
   "version": "3.8.6"
  }
 },
 "nbformat": 4,
 "nbformat_minor": 5
}
